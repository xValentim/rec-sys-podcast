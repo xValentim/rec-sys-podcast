{
 "cells": [
  {
   "cell_type": "code",
   "execution_count": 1,
   "metadata": {},
   "outputs": [],
   "source": [
    "from langchain_community.document_loaders import YoutubeLoader\n",
    "from langchain.text_splitter import RecursiveCharacterTextSplitter\n",
    "\n",
    "from youtube_transcript_api import YouTubeTranscriptApi\n",
    "from pytube import Playlist\n",
    "from tqdm import tqdm\n",
    "\n",
    "from langchain_community.document_loaders import TextLoader\n",
    "from langchain.schema import Document\n",
    "from dotenv import load_dotenv\n",
    "\n",
    "load_dotenv()\n",
    "\n",
    "import time\n",
    "import os\n",
    "\n",
    "def insert_metadata_and_type(documents, reference):\n",
    "    for idx, doc in enumerate(documents):\n",
    "        page_content = doc.page_content\n",
    "        title = reference.metadata['title']\n",
    "        view_count = reference.metadata['view_count']\n",
    "        publish_date = reference.metadata['publish_date']\n",
    "        author = reference.metadata['author']\n",
    "        description = reference.metadata['description']\n",
    "        link_video = f\"https://www.youtube.com/watch?v={reference.metadata['source']}\"\n",
    "        new_page_content = f'Title: {title}\\nViews count: {view_count}\\nPublish date: {publish_date}\\nAuthor: {author}\\nDescription: {description}\\nLink video: {link_video}\\n\\n{page_content}'\n",
    "        \n",
    "        documents[idx] = Document(\n",
    "            page_content=new_page_content,\n",
    "            metadata=reference.metadata,\n",
    "            type=reference.type\n",
    "        )\n",
    "    return documents\n",
    "\n",
    "playlist_link_list = ['https://www.youtube.com/playlist?list=PLMra4G0-Z7pMYLE-D-ptnHt1IW_Y1hn8H', # Parabolica\n",
    "                      'https://www.youtube.com/playlist?list=PL8vXuI6zmpdj_YFEHTaBDccdSCC1LVNH0', # Quimica Kultivi\n",
    "                      'https://www.youtube.com/playlist?list=PL8vXuI6zmpdiG6QR-LpXXbUYzPz5rOhF2', # Fisica Kultivi\n",
    "                      'https://www.youtube.com/playlist?list=PLufADJj3qLe9PlyOZVXTV-URSDEmKgHPy'] # Biologia Thaisefinish\n"
   ]
  },
  {
   "cell_type": "code",
   "execution_count": 2,
   "metadata": {},
   "outputs": [
    {
     "name": "stdout",
     "output_type": "stream",
     "text": [
      "All Urls in playlist:  357\n"
     ]
    }
   ],
   "source": [
    "\n",
    "all_urls = []\n",
    "for playlist_link in playlist_link_list:\n",
    "    playlist_object = Playlist(playlist_link)\n",
    "    list_of_urls = playlist_object.video_urls\n",
    "    all_urls += list_of_urls\n",
    "    \n",
    "print('All Urls in playlist: ', len(all_urls))\n"
   ]
  },
  {
   "cell_type": "code",
   "execution_count": 3,
   "metadata": {},
   "outputs": [
    {
     "name": "stderr",
     "output_type": "stream",
     "text": [
      "  1%|▏         | 5/357 [00:10<11:30,  1.96s/it]"
     ]
    },
    {
     "name": "stdout",
     "output_type": "stream",
     "text": [
      "Erro no vídeo:  https://www.youtube.com/watch?v=n-gxIqg5xwI\n"
     ]
    },
    {
     "name": "stderr",
     "output_type": "stream",
     "text": [
      "  3%|▎         | 9/357 [00:20<13:45,  2.37s/it]"
     ]
    },
    {
     "name": "stdout",
     "output_type": "stream",
     "text": [
      "Erro no vídeo:  https://www.youtube.com/watch?v=jTuT8iiSF3g\n"
     ]
    },
    {
     "name": "stderr",
     "output_type": "stream",
     "text": [
      "  3%|▎         | 11/357 [00:24<11:57,  2.07s/it]"
     ]
    },
    {
     "name": "stdout",
     "output_type": "stream",
     "text": [
      "Erro no vídeo:  https://www.youtube.com/watch?v=QoSWUeL3fW0\n"
     ]
    },
    {
     "name": "stderr",
     "output_type": "stream",
     "text": [
      "  4%|▎         | 13/357 [00:28<12:44,  2.22s/it]"
     ]
    },
    {
     "name": "stdout",
     "output_type": "stream",
     "text": [
      "Erro no vídeo:  https://www.youtube.com/watch?v=vOQf4k5-T98\n"
     ]
    },
    {
     "name": "stderr",
     "output_type": "stream",
     "text": [
      " 11%|█         | 38/357 [01:24<11:37,  2.19s/it]"
     ]
    }
   ],
   "source": [
    "\n",
    "text_splitter = RecursiveCharacterTextSplitter(\n",
    "    chunk_size=5_000,\n",
    "    chunk_overlap=1_000,\n",
    "    length_function=len,\n",
    "    is_separator_regex=False,\n",
    ")\n",
    "\n",
    "all_transcripts = []\n",
    "for url in tqdm(all_urls):\n",
    "    try:\n",
    "        loader = YoutubeLoader.from_youtube_url(\n",
    "            url, add_video_info=True, language=['pt']\n",
    "        )\n",
    "        transcript = loader.load()\n",
    "        all_transcripts.append(transcript[0])\n",
    "    except:\n",
    "        print('Erro no vídeo: ', url)\n"
   ]
  },
  {
   "cell_type": "code",
   "execution_count": 6,
   "metadata": {},
   "outputs": [
    {
     "name": "stdout",
     "output_type": "stream",
     "text": [
      "Total documents:  234\n"
     ]
    }
   ],
   "source": [
    "all_transcripts_json_format = [vars(x) for x in all_transcripts]\n",
    "data_loaded = [Document(\n",
    "            page_content=x['page_content'],\n",
    "            metadata=x['metadata'],\n",
    "            type=x['type']\n",
    "        ) for x in all_transcripts_json_format]\n",
    "\n",
    "documents_splitted = []\n",
    "for rec_doc in data_loaded:\n",
    "    docs = insert_metadata_and_type(text_splitter.create_documents([rec_doc.page_content]), rec_doc)\n",
    "    documents_splitted.extend(docs)\n",
    "    \n",
    "print('Total documents: ', len(documents_splitted))"
   ]
  },
  {
   "cell_type": "code",
   "execution_count": 26,
   "metadata": {},
   "outputs": [],
   "source": [
    "import numpy as np\n",
    "import pandas as pd\n",
    "\n",
    "content_splitted = np.array([x.page_content for x in documents_splitted]).reshape(-1, 1)\n",
    "titles = np.array([x.metadata['title'] for x in documents_splitted]).reshape(-1, 1)\n",
    "df = pd.DataFrame(np.concatenate([titles, content_splitted], axis=1), columns=['titles', 'content'])"
   ]
  },
  {
   "cell_type": "code",
   "execution_count": 29,
   "metadata": {},
   "outputs": [],
   "source": [
    "df.to_csv('../data/data_playlists_enem.csv', index=False)"
   ]
  },
  {
   "cell_type": "code",
   "execution_count": null,
   "metadata": {},
   "outputs": [],
   "source": []
  }
 ],
 "metadata": {
  "kernelspec": {
   "display_name": "env",
   "language": "python",
   "name": "python3"
  },
  "language_info": {
   "codemirror_mode": {
    "name": "ipython",
    "version": 3
   },
   "file_extension": ".py",
   "mimetype": "text/x-python",
   "name": "python",
   "nbconvert_exporter": "python",
   "pygments_lexer": "ipython3",
   "version": "3.9.13"
  }
 },
 "nbformat": 4,
 "nbformat_minor": 2
}
