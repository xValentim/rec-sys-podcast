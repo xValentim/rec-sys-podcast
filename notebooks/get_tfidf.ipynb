{
 "cells": [
  {
   "cell_type": "code",
   "execution_count": 56,
   "metadata": {},
   "outputs": [],
   "source": [
    "import pandas as pd\n",
    "import numpy as np\n",
    "import re\n",
    "import nltk\n",
    "from nltk.corpus import stopwords\n",
    "\n",
    "url = \"../data/data_podcasts_title_content.csv\"\n",
    "df = pd.read_csv(url)"
   ]
  },
  {
   "cell_type": "code",
   "execution_count": 57,
   "metadata": {},
   "outputs": [],
   "source": [
    "df['metadado'] = df['content'].apply(lambda x: x.split('\\n\\n')[0])"
   ]
  },
  {
   "cell_type": "code",
   "execution_count": 58,
   "metadata": {},
   "outputs": [
    {
     "name": "stderr",
     "output_type": "stream",
     "text": [
      "[nltk_data] Downloading package stopwords to\n",
      "[nltk_data]     C:\\Users\\gabri\\AppData\\Roaming\\nltk_data...\n",
      "[nltk_data]   Package stopwords is already up-to-date!\n"
     ]
    }
   ],
   "source": [
    "nltk.download('stopwords')\n",
    "stop_words = set(stopwords.words('portuguese'))\n",
    "\n",
    "def preprocess_text(text):\n",
    "    text = text.lower()\n",
    "    text = re.sub(r'\\d+', '', text)\n",
    "    text = re.sub(r'\\b\\w{1,2}\\b', '', text)  \n",
    "    text = re.sub(r'[^\\w\\s]', '', text) \n",
    "    text = ' '.join(word for word in text.split() if word not in stop_words)\n",
    "    return text"
   ]
  },
  {
   "cell_type": "code",
   "execution_count": 59,
   "metadata": {},
   "outputs": [
    {
     "name": "stdout",
     "output_type": "stream",
     "text": [
      "Title: COMO ATINGIR A ALTA PERFORMANCE (com Eslen Delanogare e Paulo Muzy) | Os Sócios Podcast #109\n",
      "Views count: 732556\n",
      "Publish date: 2022-12-09 00:00:00\n",
      "Author: Podcast Completo\n",
      "Description: Unknown\n",
      "Link video: https://www.youtube.com/watch?v=188agVtVMpE\n",
      "\n",
      "[Música] [Música] [Aplausos] [Música] [Música] [Música] [Música] [Música] [Música] [Aplausos] [Música] [Música] [Música] [Música] [Aplausos] [Música] [Música] [Música] [Música] [Aplausos] [Música] [Música] [Música] [Música] E aí pessoal vamos começar mais episódios Episódio número 109 estou aqui como sempre com uma luperini minha esposa host e rosto do podcast Olá pessoal sejam bem-vindos a mais um episódio e qual o tema de hoje vamos falar sobre performance para vocês né já aplicarem começar esse ano que já é quase ano que vem né exatamente bem em alta performance nós estamos chegando em 2023 de fato e em todo o começo de ano geralmente o pessoal coloca um milhão de metas que é emagrecer quer pagar as dívidas que vai começar a inves\n",
      "title atingir alta performance eslen delanogare paulo muzy sócios podcast views count publish date author podcast completo description unknown link video httpswwwyoutubecomwatchagvtvmpe música música aplausos música música música música música música aplausos música música música música aplausos música música música música aplausos música música música música pessoal vamos começar episódios episódio número aqui sempre luperini esposa host rosto podcast olá pessoal bemvindos episódio tema hoje vamos falar sobre performance aplicarem começar ano quase ano vem exatamente bem alta performance chegando fato todo começo ano geralmente pessoal coloca milhão metas emagrecer quer pagar dívidas vai começar investir quer ficar rico quer lançar curso lançar vizinha forte ficar forte casar muita coisa pessoal coloca meta gente vai ver pode fazer melhorar performance tanto física quanto mental conseguir cumprir pre ano primeira dica pretender tantas coisas espaço tão curto ter metas longo prazo ante\n"
     ]
    }
   ],
   "source": [
    "print(df['content'].values[0][:1000])\n",
    "df['content'] = df['content'].apply(preprocess_text)\n",
    "print(df['content'].values[0][:1000])"
   ]
  },
  {
   "cell_type": "code",
   "execution_count": 60,
   "metadata": {},
   "outputs": [],
   "source": [
    "df['metadata_and_content_clean'] = df['metadado'] + '\\n\\n' + df['content']"
   ]
  },
  {
   "cell_type": "code",
   "execution_count": 61,
   "metadata": {},
   "outputs": [],
   "source": [
    "from sklearn.feature_extraction.text import TfidfVectorizer\n",
    "\n",
    "vectorizer = TfidfVectorizer() # Important note here: there are many default parameters that do not show in this call.\n",
    "X = vectorizer.fit_transform(df['metadata_and_content_clean'])"
   ]
  },
  {
   "cell_type": "code",
   "execution_count": 64,
   "metadata": {},
   "outputs": [
    {
     "name": "stdout",
     "output_type": "stream",
     "text": [
      "Title: Entendendo o SONO | Os Sócios Podcast #77\n",
      "Views count: 201810\n",
      "Publish date: 2022-06-23 00:00:00\n",
      "Author: Podcast Completo\n",
      "Description: Unknown\n",
      "Link video: https://www.youtube.com/watch?v=chYBWwliAWM\n",
      "\n",
      "title entendendo sono sócios podcast views count publish date author podcast completo description unknown link video httpswwwyoutubecomwatchchybwwliawm concepção caio sonho aviso algo vai acontecer pessoa manda mensagem preocupada bruno sonhei coisa ruim falei cara fica tranquilo tudo sonham gente acontecer agenda transar todo mundo parte grávida fino exatamente então fiquem tranquilos quanto voltando saindo agora sonho parte sono novamente muita gente comenta chamado ciclo circadiano ilha latim cerca dia sim longo evolução ficou alinhado sol nasce gente acordando sol pondo gente começa ficar relaxado pronto período leiria noite ideal então relação ciclo circadiano hoje pessoas afeta sono porque agora sol ganhando gente fim aspectos importantes sono incrível pareça sol nasce sol põe \n"
     ]
    }
   ],
   "source": [
    "print(df['metadata_and_content_clean'].values[100][:1000])"
   ]
  },
  {
   "cell_type": "code",
   "execution_count": 65,
   "metadata": {},
   "outputs": [],
   "source": [
    "query = \"longo da evolução de ficou alinhado com isso um Quando o Sol nasce a gente tá acordando E aí quando o sol está se pondo a gente já começa a ficar mais relaxado pronto para o período Leiria né da noite de seria o ideal Então como é que tá a sua relação do ciclo circadiano hoje com as pessoas e como que isso afeta\"\n",
    "Q = vectorizer.transform([query])"
   ]
  },
  {
   "cell_type": "code",
   "execution_count": 66,
   "metadata": {},
   "outputs": [],
   "source": [
    "R = X.dot(Q.T)"
   ]
  },
  {
   "cell_type": "code",
   "execution_count": 68,
   "metadata": {},
   "outputs": [],
   "source": [
    "idxs_and_scores = sorted([[idx, x[0]]for idx, x in enumerate(R.toarray())], key=lambda x: x[1], reverse=True)"
   ]
  },
  {
   "cell_type": "code",
   "execution_count": 75,
   "metadata": {},
   "outputs": [
    {
     "data": {
      "text/plain": [
       "[[100, 0.33511509723043315],\n",
       " [99, 0.18204335602186889],\n",
       " [114, 0.12657133555836758],\n",
       " [106, 0.11385720060447238],\n",
       " [108, 0.11296138667832055],\n",
       " [115, 0.11222276653629554],\n",
       " [222, 0.10372728520760133],\n",
       " [221, 0.10108558626415878],\n",
       " [169, 0.09456714480021482],\n",
       " [168, 0.09402098134323858]]"
      ]
     },
     "execution_count": 75,
     "metadata": {},
     "output_type": "execute_result"
    }
   ],
   "source": [
    "idxs_and_scores[:10]"
   ]
  },
  {
   "cell_type": "code",
   "execution_count": 79,
   "metadata": {},
   "outputs": [],
   "source": [
    "# Get score with np.argsort\n",
    "scores = np.array(R.toarray()).flatten()\n",
    "idxs = np.argsort(scores)[::-1]\n",
    "idxs_and_scores = np.array([[idx, scores[idx]] for idx in idxs])"
   ]
  },
  {
   "cell_type": "code",
   "execution_count": 85,
   "metadata": {},
   "outputs": [
    {
     "data": {
      "text/plain": [
       "array([100,  99, 114, 106, 108, 115, 222, 221, 169, 168])"
      ]
     },
     "execution_count": 85,
     "metadata": {},
     "output_type": "execute_result"
    }
   ],
   "source": [
    "idxs_and_scores[:10, 0].astype(int)"
   ]
  },
  {
   "cell_type": "code",
   "execution_count": 77,
   "metadata": {},
   "outputs": [],
   "source": [
    "idxs = np.array(idxs_and_scores[:10])[:, 0].astype(int)"
   ]
  },
  {
   "cell_type": "code",
   "execution_count": 78,
   "metadata": {},
   "outputs": [
    {
     "data": {
      "text/html": [
       "<div>\n",
       "<style scoped>\n",
       "    .dataframe tbody tr th:only-of-type {\n",
       "        vertical-align: middle;\n",
       "    }\n",
       "\n",
       "    .dataframe tbody tr th {\n",
       "        vertical-align: top;\n",
       "    }\n",
       "\n",
       "    .dataframe thead th {\n",
       "        text-align: right;\n",
       "    }\n",
       "</style>\n",
       "<table border=\"1\" class=\"dataframe\">\n",
       "  <thead>\n",
       "    <tr style=\"text-align: right;\">\n",
       "      <th></th>\n",
       "      <th>titles</th>\n",
       "      <th>content</th>\n",
       "      <th>metadado</th>\n",
       "      <th>metadata_and_content_clean</th>\n",
       "    </tr>\n",
       "  </thead>\n",
       "  <tbody>\n",
       "    <tr>\n",
       "      <th>100</th>\n",
       "      <td>Entendendo o SONO | Os Sócios Podcast #77</td>\n",
       "      <td>title entendendo sono sócios podcast views cou...</td>\n",
       "      <td>Title: Entendendo o SONO | Os Sócios Podcast #...</td>\n",
       "      <td>Title: Entendendo o SONO | Os Sócios Podcast #...</td>\n",
       "    </tr>\n",
       "    <tr>\n",
       "      <th>99</th>\n",
       "      <td>Entendendo o SONO | Os Sócios Podcast #77</td>\n",
       "      <td>title entendendo sono sócios podcast views cou...</td>\n",
       "      <td>Title: Entendendo o SONO | Os Sócios Podcast #...</td>\n",
       "      <td>Title: Entendendo o SONO | Os Sócios Podcast #...</td>\n",
       "    </tr>\n",
       "    <tr>\n",
       "      <th>114</th>\n",
       "      <td>Entendendo o SONO | Os Sócios Podcast #77</td>\n",
       "      <td>title entendendo sono sócios podcast views cou...</td>\n",
       "      <td>Title: Entendendo o SONO | Os Sócios Podcast #...</td>\n",
       "      <td>Title: Entendendo o SONO | Os Sócios Podcast #...</td>\n",
       "    </tr>\n",
       "    <tr>\n",
       "      <th>106</th>\n",
       "      <td>Entendendo o SONO | Os Sócios Podcast #77</td>\n",
       "      <td>title entendendo sono sócios podcast views cou...</td>\n",
       "      <td>Title: Entendendo o SONO | Os Sócios Podcast #...</td>\n",
       "      <td>Title: Entendendo o SONO | Os Sócios Podcast #...</td>\n",
       "    </tr>\n",
       "    <tr>\n",
       "      <th>108</th>\n",
       "      <td>Entendendo o SONO | Os Sócios Podcast #77</td>\n",
       "      <td>title entendendo sono sócios podcast views cou...</td>\n",
       "      <td>Title: Entendendo o SONO | Os Sócios Podcast #...</td>\n",
       "      <td>Title: Entendendo o SONO | Os Sócios Podcast #...</td>\n",
       "    </tr>\n",
       "    <tr>\n",
       "      <th>115</th>\n",
       "      <td>Entendendo o SONO | Os Sócios Podcast #77</td>\n",
       "      <td>title entendendo sono sócios podcast views cou...</td>\n",
       "      <td>Title: Entendendo o SONO | Os Sócios Podcast #...</td>\n",
       "      <td>Title: Entendendo o SONO | Os Sócios Podcast #...</td>\n",
       "    </tr>\n",
       "    <tr>\n",
       "      <th>222</th>\n",
       "      <td>Puravida: Vitamina D e Pés no Solo | Os Sócios...</td>\n",
       "      <td>title puravida vitamina pés solo sócios podcas...</td>\n",
       "      <td>Title: Puravida: Vitamina D e Pés no Solo | Os...</td>\n",
       "      <td>Title: Puravida: Vitamina D e Pés no Solo | Os...</td>\n",
       "    </tr>\n",
       "    <tr>\n",
       "      <th>221</th>\n",
       "      <td>Puravida: Vitamina D e Pés no Solo | Os Sócios...</td>\n",
       "      <td>title puravida vitamina pés solo sócios podcas...</td>\n",
       "      <td>Title: Puravida: Vitamina D e Pés no Solo | Os...</td>\n",
       "      <td>Title: Puravida: Vitamina D e Pés no Solo | Os...</td>\n",
       "    </tr>\n",
       "    <tr>\n",
       "      <th>169</th>\n",
       "      <td>COMO FUNCIONA O CÉREBRO | Os Sócios Podcast #43</td>\n",
       "      <td>title funciona cérebro sócios podcast views co...</td>\n",
       "      <td>Title: COMO FUNCIONA O CÉREBRO | Os Sócios Pod...</td>\n",
       "      <td>Title: COMO FUNCIONA O CÉREBRO | Os Sócios Pod...</td>\n",
       "    </tr>\n",
       "    <tr>\n",
       "      <th>168</th>\n",
       "      <td>COMO FUNCIONA O CÉREBRO | Os Sócios Podcast #43</td>\n",
       "      <td>title funciona cérebro sócios podcast views co...</td>\n",
       "      <td>Title: COMO FUNCIONA O CÉREBRO | Os Sócios Pod...</td>\n",
       "      <td>Title: COMO FUNCIONA O CÉREBRO | Os Sócios Pod...</td>\n",
       "    </tr>\n",
       "  </tbody>\n",
       "</table>\n",
       "</div>"
      ],
      "text/plain": [
       "                                                titles  \\\n",
       "100          Entendendo o SONO | Os Sócios Podcast #77   \n",
       "99           Entendendo o SONO | Os Sócios Podcast #77   \n",
       "114          Entendendo o SONO | Os Sócios Podcast #77   \n",
       "106          Entendendo o SONO | Os Sócios Podcast #77   \n",
       "108          Entendendo o SONO | Os Sócios Podcast #77   \n",
       "115          Entendendo o SONO | Os Sócios Podcast #77   \n",
       "222  Puravida: Vitamina D e Pés no Solo | Os Sócios...   \n",
       "221  Puravida: Vitamina D e Pés no Solo | Os Sócios...   \n",
       "169    COMO FUNCIONA O CÉREBRO | Os Sócios Podcast #43   \n",
       "168    COMO FUNCIONA O CÉREBRO | Os Sócios Podcast #43   \n",
       "\n",
       "                                               content  \\\n",
       "100  title entendendo sono sócios podcast views cou...   \n",
       "99   title entendendo sono sócios podcast views cou...   \n",
       "114  title entendendo sono sócios podcast views cou...   \n",
       "106  title entendendo sono sócios podcast views cou...   \n",
       "108  title entendendo sono sócios podcast views cou...   \n",
       "115  title entendendo sono sócios podcast views cou...   \n",
       "222  title puravida vitamina pés solo sócios podcas...   \n",
       "221  title puravida vitamina pés solo sócios podcas...   \n",
       "169  title funciona cérebro sócios podcast views co...   \n",
       "168  title funciona cérebro sócios podcast views co...   \n",
       "\n",
       "                                              metadado  \\\n",
       "100  Title: Entendendo o SONO | Os Sócios Podcast #...   \n",
       "99   Title: Entendendo o SONO | Os Sócios Podcast #...   \n",
       "114  Title: Entendendo o SONO | Os Sócios Podcast #...   \n",
       "106  Title: Entendendo o SONO | Os Sócios Podcast #...   \n",
       "108  Title: Entendendo o SONO | Os Sócios Podcast #...   \n",
       "115  Title: Entendendo o SONO | Os Sócios Podcast #...   \n",
       "222  Title: Puravida: Vitamina D e Pés no Solo | Os...   \n",
       "221  Title: Puravida: Vitamina D e Pés no Solo | Os...   \n",
       "169  Title: COMO FUNCIONA O CÉREBRO | Os Sócios Pod...   \n",
       "168  Title: COMO FUNCIONA O CÉREBRO | Os Sócios Pod...   \n",
       "\n",
       "                            metadata_and_content_clean  \n",
       "100  Title: Entendendo o SONO | Os Sócios Podcast #...  \n",
       "99   Title: Entendendo o SONO | Os Sócios Podcast #...  \n",
       "114  Title: Entendendo o SONO | Os Sócios Podcast #...  \n",
       "106  Title: Entendendo o SONO | Os Sócios Podcast #...  \n",
       "108  Title: Entendendo o SONO | Os Sócios Podcast #...  \n",
       "115  Title: Entendendo o SONO | Os Sócios Podcast #...  \n",
       "222  Title: Puravida: Vitamina D e Pés no Solo | Os...  \n",
       "221  Title: Puravida: Vitamina D e Pés no Solo | Os...  \n",
       "169  Title: COMO FUNCIONA O CÉREBRO | Os Sócios Pod...  \n",
       "168  Title: COMO FUNCIONA O CÉREBRO | Os Sócios Pod...  "
      ]
     },
     "execution_count": 78,
     "metadata": {},
     "output_type": "execute_result"
    }
   ],
   "source": [
    "df.iloc[idxs]"
   ]
  },
  {
   "cell_type": "code",
   "execution_count": 143,
   "metadata": {},
   "outputs": [
    {
     "name": "stderr",
     "output_type": "stream",
     "text": [
      "[nltk_data] Downloading package stopwords to\n",
      "[nltk_data]     C:\\Users\\gabri\\AppData\\Roaming\\nltk_data...\n",
      "[nltk_data]   Package stopwords is already up-to-date!\n"
     ]
    }
   ],
   "source": [
    "import pickle\n",
    "from pydantic import BaseModel\n",
    "\n",
    "nltk.download('stopwords')\n",
    "stop_words = set(stopwords.words('portuguese'))\n",
    "\n",
    "class Output(BaseModel):\n",
    "    title: str\n",
    "    content: str\n",
    "    relevance: float\n",
    "\n",
    "class Retriever:\n",
    "    def __init__(self, path_csv, path_model):\n",
    "        self.df = pd.read_csv(path_csv)\n",
    "        self.df['metadado'] = self.df['content'].apply(lambda x: x.split('\\n\\n')[0])\n",
    "        self.df['content'] = self.df['content'].apply(self.preprocess_text)\n",
    "        self.df['metadata_and_content_clean'] = self.df['metadado'] + '\\n\\n' + self.df['content']\n",
    "        try:\n",
    "            with open(path_model, 'rb') as f_in:\n",
    "                self.vectorizer = pickle.load(f_in)\n",
    "            self.X = self.vectorizer.transform(self.df['metadata_and_content_clean'])    \n",
    "            \n",
    "        except:\n",
    "            self.vectorizer = TfidfVectorizer()\n",
    "            self.X = self.vectorizer.fit_transform(self.df['metadata_and_content_clean'])\n",
    "            \n",
    "        \n",
    "    def invoke(self, query, k=3):\n",
    "        Q = vectorizer.transform([query])\n",
    "        R = self.X.dot(Q.T)\n",
    "        \n",
    "        # Get score with np.argsort\n",
    "        scores = np.array(R.toarray()).flatten()\n",
    "        idxs = np.argsort(scores)[::-1]\n",
    "        idxs_and_scores = np.array([[idx, scores[idx]] for idx in idxs])\n",
    "        \n",
    "        retrieved = np.array(idxs_and_scores[:k])\n",
    "        idxs = np.array(retrieved)[:, 0].astype(int)\n",
    "        output_title = self.df.iloc[idxs][['titles']].values\n",
    "        output_content = self.df.iloc[idxs][['metadata_and_content_clean']].values\n",
    "        output_relevance = retrieved[:, 1].reshape(-1, 1)\n",
    "        output = np.concatenate([output_title, output_content, output_relevance], axis=1)\n",
    "        return output\n",
    "    \n",
    "    def query(self, query, k=3):\n",
    "        output = self.invoke(query, k)\n",
    "        output = [Output(title=x[0], content=x[1], relevance=x[2]) for x in output]\n",
    "        return output\n",
    "    \n",
    "    def preprocess_text(self, text):\n",
    "        text = text.lower()\n",
    "        text = re.sub(r'\\d+', '', text)\n",
    "        text = re.sub(r'\\b\\w{1,2}\\b', '', text)  \n",
    "        text = re.sub(r'[^\\w\\s]', '', text) \n",
    "        text = ' '.join(word for word in text.split() if word not in stop_words)\n",
    "        return text\n",
    "    \n",
    "    def save_model(self, filename='tfidf_model.pkl'):\n",
    "        # Salvar o modelo TF-IDF em um arquivo .pkl\n",
    "        with open(filename, 'wb') as f_out:\n",
    "            pickle.dump(self.vectorizer, f_out)"
   ]
  },
  {
   "cell_type": "code",
   "execution_count": 144,
   "metadata": {},
   "outputs": [],
   "source": [
    "retriever = Retriever(path_csv=\"../data/data_podcasts_title_content.csv\", path_model='../models/tfidf_model.pkl')"
   ]
  },
  {
   "cell_type": "code",
   "execution_count": 146,
   "metadata": {},
   "outputs": [
    {
     "data": {
      "text/plain": [
       "[Output(title='Entendendo o SONO | Os Sócios Podcast #77', content='Title: Entendendo o SONO | Os Sócios Podcast #77\\nViews count: 201810\\nPublish date: 2022-06-23 00:00:00\\nAuthor: Podcast Completo\\nDescription: Unknown\\nLink video: https://www.youtube.com/watch?v=chYBWwliAWM\\n\\ntitle entendendo sono sócios podcast views count publish date author podcast completo description unknown link video httpswwwyoutubecomwatchchybwwliawm concepção caio sonho aviso algo vai acontecer pessoa manda mensagem preocupada bruno sonhei coisa ruim falei cara fica tranquilo tudo sonham gente acontecer agenda transar todo mundo parte grávida fino exatamente então fiquem tranquilos quanto voltando saindo agora sonho parte sono novamente muita gente comenta chamado ciclo circadiano ilha latim cerca dia sim longo evolução ficou alinhado sol nasce gente acordando sol pondo gente começa ficar relaxado pronto período leiria noite ideal então relação ciclo circadiano hoje pessoas afeta sono porque agora sol ganhando gente fim aspectos importantes sono incrível pareça sol nasce sol põe assim sono galera bem zoada atualmente parte cair porque gente desconectou disso fácil ficar lugar fechado artificial então bagunça cérebro luz presença luz sinais importantes cérebro usa saber horas duas fala hora dia começou vamos tocar terror malu luso acabou agora fácil disse pessoa luz artificial sol põe ainda continua tendo luz cérebro sabe horas afeta vários processos corpo produção hormônio melatonina baixo dia ainda atrasa fácil pessoas errar horário dormir comentários errado boa parte uns desafio pessoas hoje conseguir dormir hora certa sim vai acordar manhã tudo bem dormindo umas dez noite máximo principalmente nesse período claro algum tempo principalmente período pandêmico frente uso excessivo telas então uso grande telas afetando ciclo cariando potencializado principalmente contexto crianças durante período então usa assim telas afeta ciclo circadiano consequentemente sono diversos malefícios privação sono conta ssd tela tela luz azul luz azul dia lápis feito gente consegue cérebro consegue dizer dia noite tal andrey falou ali sobre ciclo circadiano alvo verdade prêmio nobel cara falou ciclo circadiano afetava tudo vida essencial gente precisava ligado meio óbvio meio óbvio alguém provar dizer olha acordado dia dormindo noite porque gente produz exatamente hormônios específicos durante cada período então gente acorda manhã gente pico cortisol ápice ali meio manhã vai diminuindo negócio aqui diminuir todo mundo diminui porque estressado tal então existe modulação ainda estresse partir momento vai caindo nível bem baixo começa produção melatonina então tipo ter dia vai fazer produza melatonina então luz dia tão importante comprar partir momento vai produzir melatonina ainda momento dorme acontece gente luz dia porque pessoal vezes fica dentro caixinha sol vitamina consegue onde melatonina forma correta então monte gente produz forma natural melatonina consegue entrar ciclo sono ainda dorme tarde dorme errado porque dormir hora certa pessoas fácil gente acertar sono porque muitos fatores afetam pessoas costumam viver rotina disfuncional saber faz coisas sabe vai claro exemplo questão exposição luz ganhadores prêmio nobel ganharam prêmio caracteres escrevendo genes envolvidos nesse processo genes todos genes vão funcionar fazer relóginho funcione curioso gene diferentes cada reloginho cada marcar passagem tempo diferente alguns têm tendência natural dormir acordar cedo alguns têm tendência natural dormir acordar tarde vem atrás perguntar aproveitando encher andrew continuar porque pensando nesse ciclo circadiano cerca dia gente menos horário acordar dormir entanto', relevance=0.33511509723043315),\n",
       " Output(title='Entendendo o SONO | Os Sócios Podcast #77', content='Title: Entendendo o SONO | Os Sócios Podcast #77\\nViews count: 201810\\nPublish date: 2022-06-23 00:00:00\\nAuthor: Podcast Completo\\nDescription: Unknown\\nLink video: https://www.youtube.com/watch?v=chYBWwliAWM\\n\\ntitle entendendo sono sócios podcast views count publish date author podcast completo description unknown link video httpswwwyoutubecomwatchchybwwliawm chamada noradrenalina ausente tipo neurotransmissor funções propostas sonho justamente superação alguns traumas alguns fortes outros leves situações estressoras dia dia possamos super ala gente gente sabe difícil dar sonho então especificado primeiro gente objetivo porque assim difícil difícil acessar exemplo trabalho legal matthew walker fez autor livro porque dormimos colocou galera dormir aqui hipótese fase sono gente sonha boa criatividade forma cérebro tatuando acordou pessoal justamente tavam nesta fase colocava desvendar anagramas nesse ver letrinhas descobri palavra fato pessoal acordavam sono rem sonho conseguiram descobrir melhor ali resultado outro pesquisador chamado robert valbert gold fez trabalho mostrando sonho importante resolver problema colocou pessoal andar labirinto labirinto objeto guiar parte dessa galera todos fizeram primeira sessão treino voltaram experimento parte ficou acordado parte dormir pessoal dormiu conseguiu resolver labirinto fácil pessoal dormiu viram sonharam sono pessoal sonhou labirinto conseguiu resolver bem melhor problema labirinto todo resto então assim evidências parece então sonhar problema pode interessante resolvê novo gente ter certeza sonho zona momento áreas geram movimento existe geram visão muita emoção vezes negócio bagunçado dados mostram boa parte sonho composto preocupações emocionais coisas preocupado pessoas preocupado situação preocupado aparece sonho alguma maneira lembro sonhos meio estressado talvez algo interessante talvez exemplo gente várias histórias infelizmente histórias trágicas pessoas morrem acidente avião fiquei marcado mamonas atrás pouco tempo devemos marília lembra época mamonas alguma famílias cantores comentou sonhou cair avião porque sabia voz avião pequeno então bem preocupado influenciar feito hora sonho previ acidente fato voar avião influenciou sonho perfeita poderia ter existe hipótese professor cidade bom porque sonho coisa legal acontece memória sente reativados tipo bom gente vai aspectos acontecendo aqui vão ativados memórias antigas forma embaralhada sabe mistura capaz sonhar gente vai vou sonhar bruna luz universidade mistura daí pode muita coisa pode sair situações podem vir acontecer eventualmente menos vivenciou possibilidade difícil testar científicamente pra testar citou sidarta livro mensageiro noite engano conta história industrial acho inglês americano tava problema tear mecânico tava criando consegui achar solução dormir sonhou tribo guerreiros arranje lanças buraco lança vez sólida metal buraco meio falou invés colocar linha final agulha colocar frente aqui solucionar problema queria criar quero olhando sobre sonho muitas pessoas atenção concepção caio sonho aviso algo vai acontecer pessoa manda mensagem preocupada bruno sonhei coisa ruim falei cara fica tranquilo tudo sonham gente acontecer agenda transar todo mundo parte grávida fino exatamente então fiquem tranquilos quanto voltando saindo agora sonho parte sono novamente muita gente comenta chamado ciclo circadiano ilha latim cerca dia sim longo evolução ficou alinhado sol nasce gente acordando sol pondo gente começa ficar relaxado pronto período leiria noite ideal então relação ciclo circadiano hoje pessoas afeta sono porque agora sol ganhando gente fim aspectos importantes sono incrível pareça', relevance=0.18204335602186889),\n",
       " Output(title='Entendendo o SONO | Os Sócios Podcast #77', content='Title: Entendendo o SONO | Os Sócios Podcast #77\\nViews count: 201810\\nPublish date: 2022-06-23 00:00:00\\nAuthor: Podcast Completo\\nDescription: Unknown\\nLink video: https://www.youtube.com/watch?v=chYBWwliAWM\\n\\ntitle entendendo sono sócios podcast views count publish date author podcast completo description unknown link video httpswwwyoutubecomwatchchybwwliawm ano aumenta mortalidade interessante comento especialmente sobre acontece nesse ambiente acadêmico justamente estimulantes sistema nervoso mantém acordado adquirir assim máximo informações dormir vários medicamentos induzem sono então nunca regulação adequada sono acho malu comentou negócio interessante intestino vai vai talvez identificar muitas pessoas parece sabe dormir bem última vez experimentar deus crianças algum convida pessoal refletir sobre momento começou dormir mal porque algum momento começaram surgir preocupações futuro alguma coisa enrolou pessoa começou dormir mal acontecer todos dormirem bem naturalmente todos dias pessoa esquece sente sono muita gente usar remédio tempo sabe sensação sentir sono reaprender sentir sono consequentemente dor mina filósofo gosto bastante falava nada errado porque cara falou camus saiu tudo alguém falar gosta caminho fala tanta camile fala francês boa assistencialismo caminho fala humano única criatura recusa bom então pois ver cartas natureza sol pondo fica relaxado certos todos grandes felinos exemplo gente ideal solta pontas fica relaxado dormir sol nasce acorda começa trabalhar faz atividade hoje gente ficar alterando horários achando produz noite sendo verdade fácil pensar devia dormindo dormi noite sim vai produzir noite fato melhor consequência fazendo estabeleceu então acho gente olhar natureza fez sim final contas convido pessoal imaginar sobre fazer imagina aconteceria morasse acampamento mora acampamento próximo vir ter rotina parecida natural gente vai ter vai ter sair preciso explorar outros vai ter explosão vai sair barraca ali vai ter opção praticar atividade física vai ter praticar root vai dizer andar achar comida algum lugar hora sol põe opção luz vai fazer vai sair meio mata correr risco pedatella onça então imaginar aconteceria experimentos fazem pega pessoal cidade leva acampamento sono pessoas muda completamente começa pôr luz começa dormir cedo melatonina começa aumentar hora certa cai hora certa regularidade horário fica melhor fica celular então levar pessoa acampamento sete dias make naturalmente revolução pessoa exército fazer agência canal beleza volta deixar dormirem dormia bem pensando então primeiros passos sono ruim lembra dormia bem hoje depende fármacos dormir boa maneira então pensa exemplo vida bisavós ver dia dessa forma sonho vai começar entrar linha poucos dias pessoa vai sentir muita diferença mudar questão exposição luz pessoa manhã faz seguinte problema dormir escolhe horário dormir acordar assim acordar faz alguma atividade física livre pôr luz natural faz refeição seguindo algum nutricionista sol pôr baixa luzes casa máximo deixa luminária acesa vai fazer diferença enorme rotina pessoa criou vai ter atividade física sempre horário específico manhã vai expor luz noite pouca luz vai trazer mudança enorme vida pessoa tempo naturalmente tirar fármacos então vou conseguir dormir sozinha espero fiz todo dias mata coisa gente faz casa noite gente luzes diretas folga luzes sempre difusas gente usa luz fica ladinho assim preferidas amarela cerâmica lâmpadas inteligentes pode programar sendo horário intensidade vai loja vai diminuindo tão caro pode medida gente aplica muita diferença desempenho durante dia aplicado comecei aplicar', relevance=0.12657133555836753),\n",
       " Output(title='Entendendo o SONO | Os Sócios Podcast #77', content='Title: Entendendo o SONO | Os Sócios Podcast #77\\nViews count: 201810\\nPublish date: 2022-06-23 00:00:00\\nAuthor: Podcast Completo\\nDescription: Unknown\\nLink video: https://www.youtube.com/watch?v=chYBWwliAWM\\n\\ntitle entendendo sono sócios podcast views count publish date author podcast completo description unknown link video httpswwwyoutubecomwatchchybwwliawm criatividade humana transição vigília fase requer início sonolência ponto máximo acreditar ponto máximo junção duas vezes ali cérebro trabalham prol criatividade gente mentira prezo sono estranho pessoal perguntando aqui rotina dorme bem produzem caramba fácil digo experiência própria trabalhando nenhum digital fácil extrapolar limite chega noite vai responder caixinha sei fica agitado verdade cara trocar coisas abro mão durmo bem comer mal posso trabalhando demais diminui quantidade sono então raro dormir menos horas acho lembro aconteceu raro gente dorme média sete horas noite quase sempre bem frequente horário então dez meia cama acordo horas sete horas dependendo dia hora gente acorda então gente bem frequente horário dormir quantidade sono então versão tela fazem antes dormir priva pouco gente gostaria fazer legal expor luz logo manhã quiser hum coisas impacta expor lembra falou necessidade olhos resultados então olhar pouquinho assim lógico tempo sol corpo sabe olha dia fiquei ensinar exercícios físicos geralmente palco natal faz diferença porque enviando sinais corpo tipo acordados dia hora produzir regular nisso alto pouco manhã parte noite acho treino melhor noite fazem interessante nele chama fatores arrastadores justamente informações ambiente redor informando acontecendo ali horas vai amanhã noite ajuda regular ciclo circadiano ainda sobre ponto sono dúvida lente corda muitas vezes durante noite muita gente hábito dormir abraçado sempre assim rio janeiro quente pezinho hein boa vista norte gente faz tocava condicionado dava quente paulo gente começou dormir abraçado faz anos gente dorme abraçado igual abraçando tava abraçando então noite vezes acordo mudar posição acordo abraçar acorda junto acorda acaba acordando vezes convidar despertar faz despertar virar fazer fato acordar assim brevemente afeta forma nenhuma normal acordar característica sol então problema algum pessoal vez fala dormir oito horas acordar sabe então nada diferença disso apresenta lembrar pessoa pode ter acordado várias vezes lembra porque gente acorda meche volta problema acordar conseguir dormir novo problema muita gente enfrenta porque ansiedade temperatura quarto porta então pois problema muitas vezes pessoa acordou várias vezes horrível lembra acontece bebem álcool ajuda dormir pessoas pensam contrário importante falou vou beber vez bebo durmo bem durmo pessoal menor noção sono qualidade então dorme experimento sei sabe acha relaxada algum motivo porque experimentou estação dois efeitos duas substâncias assim importante serem relatados podem utilizado forma nenhum antes dormir thc princípios presentes maconha álcool afetam sobremaneira qualidade sono pergunta pra caramba programação achava utilizada gente óbvio gente estereótipo bem filme cara usando coisa ficando lenha então ajuda ocorre porque vai ter exacerbação vai ter aumento deus chamado gaba realmente deprimem atividade sistema nervoso afeta qualidade sono dorme paga melhor dizendo apaga dormir apaga afeta correta som afeta mecanismos ocorrem durante sono gente quer desligar cérebro sono pessoa fica inconsciente rápido volta carreira cérebro desligado inativo inativando durante sono bebendo thc gente quer solo', relevance=0.11385720060447235),\n",
       " Output(title='Entendendo o SONO | Os Sócios Podcast #77', content='Title: Entendendo o SONO | Os Sócios Podcast #77\\nViews count: 201810\\nPublish date: 2022-06-23 00:00:00\\nAuthor: Podcast Completo\\nDescription: Unknown\\nLink video: https://www.youtube.com/watch?v=chYBWwliAWM\\n\\ntitle entendendo sono sócios podcast views count publish date author podcast completo description unknown link video httpswwwyoutubecomwatchchybwwliawm sabe pensei falou exemplo fase rené rap irmã todo filme gente matrix exemplo cara fazendo download hum fazendo download alguma coisa gosta hipótese simulação exemplo falando falamos bastante falta sono quais males excesso sono porque exemplo alguém comentou dorme horas extrapolar saiu normal sim quê pode acontecendo pois vários motivos praticamente pressão todos transtornos psiquiátricos têm relação distúrbio sono arrumando águas daí vai excesso vai gente dormir gente consegue dizer porque dormi mal vai fazer mal quer dormir demais vai fazer mal sabe relação pode dormindo demais alguma coisa acontecendo pessoa fazendo pode depressão acaba sendo sintoma tocar ali trás daquele daquele indivíduo pode causa alguma coisa pode desencadear algumas coisas verdade pode sintoma acaba sendo bola neve indivíduo tempo exemplo celular depressão acaba dormindo fato dormir vai afetar inúmeras funções corpo ciclo faz negócio altera outra virou efeito dominó facebook exatamente então ideal dormindo muita vez obrigada dormir menos assim talvez consiga retornar inclusive queria fazer observação falou sol consegui falar hora gente falou olho parte aqui olho apontando ouvindo parte olho tipo olheira aonde gente consegue absorver vitamina então adianta tomar sol olhada óculos sol tão legal então tanto olho quanto parte toda então legal tomar sol olhando bruno falou sobre olhar sol tudo fácil rápido porque assim fica toma cuidado pode machucar nega frase hipócrates flávio passou exemplo repete bastante disse doenças médico grego antigo doenças começam parte momento homem afasta natureza coisa gente faz durante milhares anos repente faz fala sabe gente pode fracionar sono vídeo hum curtidas gente sempre olhou sol jeito botar alguma coisa hum hum hum saio pensar algum tipo consequência falando ficarem horas olhando falando tipo alguns segundos minutos ali fio solar óculos sol durante algum tempo sempre associei sono desde juventude desde novo ficar jovem porque mito grego acho interessante história selene endimião ouviram vozes mito deusa lua três irmãos quero sol selena lua aurora fase transição sol lua tudo rosa assim manhã selene ficava sozinha céu reipastor quer uns menos reis época pastores endimião apaixonou dor ficava todo dia contemplando lua lua viu acabou apaixonando volta começaram ter caso explicações sobre falou sumir vez ataca união cinquenta filhas alguns mitos outros lua longo ano algum motivo agora mitos falam punição outros falam presente dinheiro pode pedir algo zeus falou olha quero juventude imortalidade quero sempre dormindo fica dormindo eternamente sentido acontecendo todo dia lua vai visitar união fica então parece amantes ideais porque mortal ali imortal tornou imortal ficou eternamente jovem sempre belo nunca vão ter aprofundado relacionamento pessoas têm ficam tempo todo penso porque dorme ficou jovem ler outros meses antes têm mortalidade nome sujo sobre recentemente inclusive pra vir sobre alguns efeitos privação sono efeitos justamente envelhecimento elecimento porque lembro perfeitamente ciclo nessa pesquisa justamente aumento proteínas havia mencionado destruição alguns neurônios favorecendo alguns processos patológicos além envelhecimento então existe relação direta privação sono envelhecimento lembro dado acho matthew walker comentou talvez enganado coisa assim cada hora', relevance=0.11296138667832054)]"
      ]
     },
     "execution_count": 146,
     "metadata": {},
     "output_type": "execute_result"
    }
   ],
   "source": [
    "query = \"longo da evolução de ficou alinhado com isso um Quando o Sol nasce a gente tá acordando E aí quando o sol está se pondo a gente já começa a ficar mais relaxado pronto para o período Leiria né da noite de seria o ideal Então como é que tá a sua relação do ciclo circadiano hoje com as pessoas e como que isso afeta\"\n",
    "\n",
    "retriever.query(query, k=5)"
   ]
  },
  {
   "cell_type": "code",
   "execution_count": 147,
   "metadata": {},
   "outputs": [],
   "source": [
    "retriever.save_model(filename='../models/tfidf_model.pkl')"
   ]
  },
  {
   "cell_type": "code",
   "execution_count": null,
   "metadata": {},
   "outputs": [],
   "source": []
  }
 ],
 "metadata": {
  "kernelspec": {
   "display_name": "env",
   "language": "python",
   "name": "python3"
  },
  "language_info": {
   "codemirror_mode": {
    "name": "ipython",
    "version": 3
   },
   "file_extension": ".py",
   "mimetype": "text/x-python",
   "name": "python",
   "nbconvert_exporter": "python",
   "pygments_lexer": "ipython3",
   "version": "3.9.13"
  }
 },
 "nbformat": 4,
 "nbformat_minor": 2
}
