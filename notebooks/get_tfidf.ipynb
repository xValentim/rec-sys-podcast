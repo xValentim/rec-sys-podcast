{
 "cells": [
  {
   "cell_type": "code",
   "execution_count": 3,
   "metadata": {},
   "outputs": [],
   "source": [
    "import pandas as pd\n",
    "import numpy as np\n",
    "\n",
    "url = \"../data/data_podcasts_title_content.csv\"\n",
    "df = pd.read_csv(url)"
   ]
  },
  {
   "cell_type": "code",
   "execution_count": 4,
   "metadata": {},
   "outputs": [
    {
     "data": {
      "text/html": [
       "<div>\n",
       "<style scoped>\n",
       "    .dataframe tbody tr th:only-of-type {\n",
       "        vertical-align: middle;\n",
       "    }\n",
       "\n",
       "    .dataframe tbody tr th {\n",
       "        vertical-align: top;\n",
       "    }\n",
       "\n",
       "    .dataframe thead th {\n",
       "        text-align: right;\n",
       "    }\n",
       "</style>\n",
       "<table border=\"1\" class=\"dataframe\">\n",
       "  <thead>\n",
       "    <tr style=\"text-align: right;\">\n",
       "      <th></th>\n",
       "      <th>titles</th>\n",
       "      <th>content</th>\n",
       "    </tr>\n",
       "  </thead>\n",
       "  <tbody>\n",
       "    <tr>\n",
       "      <th>0</th>\n",
       "      <td>COMO ATINGIR A ALTA PERFORMANCE (com Eslen Del...</td>\n",
       "      <td>Title: COMO ATINGIR A ALTA PERFORMANCE (com Es...</td>\n",
       "    </tr>\n",
       "    <tr>\n",
       "      <th>1</th>\n",
       "      <td>COMO ATINGIR A ALTA PERFORMANCE (com Eslen Del...</td>\n",
       "      <td>Title: COMO ATINGIR A ALTA PERFORMANCE (com Es...</td>\n",
       "    </tr>\n",
       "    <tr>\n",
       "      <th>2</th>\n",
       "      <td>COMO ATINGIR A ALTA PERFORMANCE (com Eslen Del...</td>\n",
       "      <td>Title: COMO ATINGIR A ALTA PERFORMANCE (com Es...</td>\n",
       "    </tr>\n",
       "    <tr>\n",
       "      <th>3</th>\n",
       "      <td>COMO ATINGIR A ALTA PERFORMANCE (com Eslen Del...</td>\n",
       "      <td>Title: COMO ATINGIR A ALTA PERFORMANCE (com Es...</td>\n",
       "    </tr>\n",
       "    <tr>\n",
       "      <th>4</th>\n",
       "      <td>COMO ATINGIR A ALTA PERFORMANCE (com Eslen Del...</td>\n",
       "      <td>Title: COMO ATINGIR A ALTA PERFORMANCE (com Es...</td>\n",
       "    </tr>\n",
       "    <tr>\n",
       "      <th>5</th>\n",
       "      <td>COMO ATINGIR A ALTA PERFORMANCE (com Eslen Del...</td>\n",
       "      <td>Title: COMO ATINGIR A ALTA PERFORMANCE (com Es...</td>\n",
       "    </tr>\n",
       "    <tr>\n",
       "      <th>6</th>\n",
       "      <td>COMO ATINGIR A ALTA PERFORMANCE (com Eslen Del...</td>\n",
       "      <td>Title: COMO ATINGIR A ALTA PERFORMANCE (com Es...</td>\n",
       "    </tr>\n",
       "    <tr>\n",
       "      <th>7</th>\n",
       "      <td>COMO ATINGIR A ALTA PERFORMANCE (com Eslen Del...</td>\n",
       "      <td>Title: COMO ATINGIR A ALTA PERFORMANCE (com Es...</td>\n",
       "    </tr>\n",
       "    <tr>\n",
       "      <th>8</th>\n",
       "      <td>COMO ATINGIR A ALTA PERFORMANCE (com Eslen Del...</td>\n",
       "      <td>Title: COMO ATINGIR A ALTA PERFORMANCE (com Es...</td>\n",
       "    </tr>\n",
       "    <tr>\n",
       "      <th>9</th>\n",
       "      <td>COMO ATINGIR A ALTA PERFORMANCE (com Eslen Del...</td>\n",
       "      <td>Title: COMO ATINGIR A ALTA PERFORMANCE (com Es...</td>\n",
       "    </tr>\n",
       "  </tbody>\n",
       "</table>\n",
       "</div>"
      ],
      "text/plain": [
       "                                              titles  \\\n",
       "0  COMO ATINGIR A ALTA PERFORMANCE (com Eslen Del...   \n",
       "1  COMO ATINGIR A ALTA PERFORMANCE (com Eslen Del...   \n",
       "2  COMO ATINGIR A ALTA PERFORMANCE (com Eslen Del...   \n",
       "3  COMO ATINGIR A ALTA PERFORMANCE (com Eslen Del...   \n",
       "4  COMO ATINGIR A ALTA PERFORMANCE (com Eslen Del...   \n",
       "5  COMO ATINGIR A ALTA PERFORMANCE (com Eslen Del...   \n",
       "6  COMO ATINGIR A ALTA PERFORMANCE (com Eslen Del...   \n",
       "7  COMO ATINGIR A ALTA PERFORMANCE (com Eslen Del...   \n",
       "8  COMO ATINGIR A ALTA PERFORMANCE (com Eslen Del...   \n",
       "9  COMO ATINGIR A ALTA PERFORMANCE (com Eslen Del...   \n",
       "\n",
       "                                             content  \n",
       "0  Title: COMO ATINGIR A ALTA PERFORMANCE (com Es...  \n",
       "1  Title: COMO ATINGIR A ALTA PERFORMANCE (com Es...  \n",
       "2  Title: COMO ATINGIR A ALTA PERFORMANCE (com Es...  \n",
       "3  Title: COMO ATINGIR A ALTA PERFORMANCE (com Es...  \n",
       "4  Title: COMO ATINGIR A ALTA PERFORMANCE (com Es...  \n",
       "5  Title: COMO ATINGIR A ALTA PERFORMANCE (com Es...  \n",
       "6  Title: COMO ATINGIR A ALTA PERFORMANCE (com Es...  \n",
       "7  Title: COMO ATINGIR A ALTA PERFORMANCE (com Es...  \n",
       "8  Title: COMO ATINGIR A ALTA PERFORMANCE (com Es...  \n",
       "9  Title: COMO ATINGIR A ALTA PERFORMANCE (com Es...  "
      ]
     },
     "execution_count": 4,
     "metadata": {},
     "output_type": "execute_result"
    }
   ],
   "source": [
    "df.head(10)"
   ]
  },
  {
   "cell_type": "code",
   "execution_count": 5,
   "metadata": {},
   "outputs": [],
   "source": [
    "from sklearn.feature_extraction.text import TfidfVectorizer\n",
    "\n",
    "vectorizer = TfidfVectorizer() # Important note here: there are many default parameters that do not show in this call.\n",
    "X = vectorizer.fit_transform(df['content'])"
   ]
  },
  {
   "cell_type": "code",
   "execution_count": 10,
   "metadata": {},
   "outputs": [
    {
     "data": {
      "text/plain": [
       "'Title: Entendendo o SONO | Os Sócios Podcast #77\\nViews count: 201810\\nPublish date: 2022-06-23 00:00:00\\nAuthor: Podcast Completo\\nDescription: Unknown\\nLink video: https://www.youtube.com/watch?v=chYBWwliAWM\\n\\na concepção de Caio sonho é um aviso de que algo vai acontecer quando a pessoa manda mensagem preocupada nossa Bruno sonhei com você e com seu uma coisa ruim eu falei cara fica tranquilo que se tudo que vocês sonham com a gente fosse acontecer Não teremos agenda para transar com todo mundo essa parte e eu também já tá grávida do 20º fino exatamente então Fiquem tranquilos quanto a isso mas voltando saindo agora do sonho para parte do Sono novamente muita gente comenta do chamado ciclo circadiano na Ilha do latim de cerca de um dia sim ao longo da evolução de ficou alinhado com isso um Quando o Sol nasce a gente tá acordando E aí quando o sol está se pondo a gente já começa a ficar mais relaxado pronto para o período Leiria né da noite de seria o ideal Então como é que tá a sua relação do ciclo circadiano hoje com as pessoas e como que isso afeta o sono porque agora não tem mais sol ganhando a gente fim é esse é um dos aspectos mais importantes do sono por incrível que pareça é o o sol nasce o sol se põe assim o sono da galera tá bem zoada atualmente em parte cair porque a gente desconectou disso é muito fácil ficar no lugar fechado com dos artificial Então você bagunça o seu cérebro mas a luz a presença de luz é um dos sinais mais importantes que o cérebro usa para saber que horas são quando tem duas ele fala a hora e o dia começou vamos lá tocar o terror quando tem Malu mas Luso de acabou e agora é muito fácil como eu disse a pessoa com luz artificial o sol se põe se ainda continua tendo luz o cérebro não sabe que horas são e você afeta vários processos no corpo produção de hormônio melatonina se você baixo que é dia ainda e isso atrasa é muito fácil as pessoas errar em horário de dormir esses comentários J ele não tá errado em boa parte mais uns mais desafio das pessoas hoje é conseguir dormir na hora certa sim se você vai acordar às 5:00 da manhã tudo bem mas você tem que estar dormindo umas dez da noite no máximo da Fé eu tô muito isso Principalmente nesse período Claro de algum tempo para cá mas principalmente um período pandêmico para frente é o uso excessivo de telas Então já se tinham uso muito grande de telas afetando esse ciclo se cariando e isso foi potencializado principalmente no contexto das crianças não é durante esse período Então usa assim mais telas afeta se muito mais o ciclo circadiano consequentemente o sono nós temos aí os diversos malefícios não é do da privação do sono por conta dos SSD de tela só que a tela é a luz azul né e a luz azul é como se fosse o dia no lápis feito a gente não consegue o nosso cérebro não consegue dizer se é dia se a noite e tal e o Andrey falou ali sobre o ciclo circadiano e até já foi alvo né na verdade um foi um prêmio Nobel quando o cara falou que o ciclo circadiano afetava tudo na nossa vida e que ele era essencial que a gente precisava estar ligado é até meio óbvio né é meio Óbvio Mas aí teve alguém para provar e dizer Olha você tem que estar acordado de dia e dormindo de noite isso porque a gente produz exatamente hormônios específicos durante cada período então quando a gente acorda pela manhã a gente tem um pico de cortisol E aí ele tá no Ápice ali no meio da manhã e aí vai diminuindo o negócio aqui ele tem que diminuir né Nem todo mundo diminui porque tá estressado e tal então existe essa modulação ainda do estresse e aí a partir do momento que ele vai caindo você quando ele tá num nível bem mais baixo você começa a produção de melatonina então tipo você ter o dia vai fazer com que você Produza a melatonina então a luz do dia tão importante para comprar para isso E aí a partir do momento você vai produzir na melatonina ainda do momento você dorme que acontece é que a gente não tem nem a luz do dia porque o pessoal às vezes fica dentro da caixinha não tenho sol né vitamina D E aí não consegue e onde melatonina da forma correta então tem um monte de gente que não produz de forma natural a melatonina E aí não consegue entrar no ciclo do Sono E ainda dorme tarde dorme errado porque dormir na hora certa as pessoas é muito fácil a gente acertar o sono porque ele tem muitos fatores que afetam ele e as pessoas costumam viver uma rotina disfuncional sem saber ela faz coisas que ela não sabe que vai ser tá claro né Por exemplo a questão de Exposição à luz e os ganhadores do prêmio Nobel eles ganharam o prêmio caracteres escrevendo os genes envolvidos nesse processo em genes Todos nós temos genes que vão funcionar fazer com que nossos relóginho funcione e o Curioso é que esse Gene são diferentes em cada um de Nossa o reloginho de cada um de nós marcar passagem o tempo diferente e é por isso que alguns têm uma tendência natural de dormir acordar mais cedo e alguns têm uma tendência natural de dormir acordar mais tarde aí vem atrás é só que isso que eu perguntar já aproveitando e se encher de Andrew para você continuar porque pensando nesse ciclo circadiano de cerca de um dia a gente vê que há mais ou menos um horário para acordar e para dormir no entanto há'"
      ]
     },
     "execution_count": 10,
     "metadata": {},
     "output_type": "execute_result"
    }
   ],
   "source": [
    "df['content'].values[100]"
   ]
  },
  {
   "cell_type": "code",
   "execution_count": 11,
   "metadata": {},
   "outputs": [],
   "source": [
    "query = \"longo da evolução de ficou alinhado com isso um Quando o Sol nasce a gente tá acordando E aí quando o sol está se pondo a gente já começa a ficar mais relaxado pronto para o período Leiria né da noite de seria o ideal Então como é que tá a sua relação do ciclo circadiano hoje com as pessoas e como que isso afeta\"\n",
    "Q = vectorizer.transform([query])"
   ]
  },
  {
   "cell_type": "code",
   "execution_count": 12,
   "metadata": {},
   "outputs": [],
   "source": [
    "R = X.dot(Q.T)"
   ]
  },
  {
   "cell_type": "code",
   "execution_count": 13,
   "metadata": {},
   "outputs": [],
   "source": [
    "idxs_and_scores = sorted([[idx, x[0]]for idx, x in enumerate(R.toarray())], key=lambda x: x[1], reverse=True)"
   ]
  },
  {
   "cell_type": "code",
   "execution_count": 21,
   "metadata": {},
   "outputs": [],
   "source": [
    "idxs = np.array(idxs_and_scores[:10])[:, 0].astype(int)"
   ]
  },
  {
   "cell_type": "code",
   "execution_count": 22,
   "metadata": {},
   "outputs": [
    {
     "data": {
      "text/html": [
       "<div>\n",
       "<style scoped>\n",
       "    .dataframe tbody tr th:only-of-type {\n",
       "        vertical-align: middle;\n",
       "    }\n",
       "\n",
       "    .dataframe tbody tr th {\n",
       "        vertical-align: top;\n",
       "    }\n",
       "\n",
       "    .dataframe thead th {\n",
       "        text-align: right;\n",
       "    }\n",
       "</style>\n",
       "<table border=\"1\" class=\"dataframe\">\n",
       "  <thead>\n",
       "    <tr style=\"text-align: right;\">\n",
       "      <th></th>\n",
       "      <th>titles</th>\n",
       "      <th>content</th>\n",
       "    </tr>\n",
       "  </thead>\n",
       "  <tbody>\n",
       "    <tr>\n",
       "      <th>100</th>\n",
       "      <td>Entendendo o SONO | Os Sócios Podcast #77</td>\n",
       "      <td>Title: Entendendo o SONO | Os Sócios Podcast #...</td>\n",
       "    </tr>\n",
       "    <tr>\n",
       "      <th>99</th>\n",
       "      <td>Entendendo o SONO | Os Sócios Podcast #77</td>\n",
       "      <td>Title: Entendendo o SONO | Os Sócios Podcast #...</td>\n",
       "    </tr>\n",
       "    <tr>\n",
       "      <th>114</th>\n",
       "      <td>Entendendo o SONO | Os Sócios Podcast #77</td>\n",
       "      <td>Title: Entendendo o SONO | Os Sócios Podcast #...</td>\n",
       "    </tr>\n",
       "    <tr>\n",
       "      <th>115</th>\n",
       "      <td>Entendendo o SONO | Os Sócios Podcast #77</td>\n",
       "      <td>Title: Entendendo o SONO | Os Sócios Podcast #...</td>\n",
       "    </tr>\n",
       "    <tr>\n",
       "      <th>222</th>\n",
       "      <td>Puravida: Vitamina D e Pés no Solo | Os Sócios...</td>\n",
       "      <td>Title: Puravida: Vitamina D e Pés no Solo | Os...</td>\n",
       "    </tr>\n",
       "    <tr>\n",
       "      <th>168</th>\n",
       "      <td>COMO FUNCIONA O CÉREBRO | Os Sócios Podcast #43</td>\n",
       "      <td>Title: COMO FUNCIONA O CÉREBRO | Os Sócios Pod...</td>\n",
       "    </tr>\n",
       "    <tr>\n",
       "      <th>108</th>\n",
       "      <td>Entendendo o SONO | Os Sócios Podcast #77</td>\n",
       "      <td>Title: Entendendo o SONO | Os Sócios Podcast #...</td>\n",
       "    </tr>\n",
       "    <tr>\n",
       "      <th>106</th>\n",
       "      <td>Entendendo o SONO | Os Sócios Podcast #77</td>\n",
       "      <td>Title: Entendendo o SONO | Os Sócios Podcast #...</td>\n",
       "    </tr>\n",
       "    <tr>\n",
       "      <th>221</th>\n",
       "      <td>Puravida: Vitamina D e Pés no Solo | Os Sócios...</td>\n",
       "      <td>Title: Puravida: Vitamina D e Pés no Solo | Os...</td>\n",
       "    </tr>\n",
       "    <tr>\n",
       "      <th>104</th>\n",
       "      <td>Entendendo o SONO | Os Sócios Podcast #77</td>\n",
       "      <td>Title: Entendendo o SONO | Os Sócios Podcast #...</td>\n",
       "    </tr>\n",
       "  </tbody>\n",
       "</table>\n",
       "</div>"
      ],
      "text/plain": [
       "                                                titles  \\\n",
       "100          Entendendo o SONO | Os Sócios Podcast #77   \n",
       "99           Entendendo o SONO | Os Sócios Podcast #77   \n",
       "114          Entendendo o SONO | Os Sócios Podcast #77   \n",
       "115          Entendendo o SONO | Os Sócios Podcast #77   \n",
       "222  Puravida: Vitamina D e Pés no Solo | Os Sócios...   \n",
       "168    COMO FUNCIONA O CÉREBRO | Os Sócios Podcast #43   \n",
       "108          Entendendo o SONO | Os Sócios Podcast #77   \n",
       "106          Entendendo o SONO | Os Sócios Podcast #77   \n",
       "221  Puravida: Vitamina D e Pés no Solo | Os Sócios...   \n",
       "104          Entendendo o SONO | Os Sócios Podcast #77   \n",
       "\n",
       "                                               content  \n",
       "100  Title: Entendendo o SONO | Os Sócios Podcast #...  \n",
       "99   Title: Entendendo o SONO | Os Sócios Podcast #...  \n",
       "114  Title: Entendendo o SONO | Os Sócios Podcast #...  \n",
       "115  Title: Entendendo o SONO | Os Sócios Podcast #...  \n",
       "222  Title: Puravida: Vitamina D e Pés no Solo | Os...  \n",
       "168  Title: COMO FUNCIONA O CÉREBRO | Os Sócios Pod...  \n",
       "108  Title: Entendendo o SONO | Os Sócios Podcast #...  \n",
       "106  Title: Entendendo o SONO | Os Sócios Podcast #...  \n",
       "221  Title: Puravida: Vitamina D e Pés no Solo | Os...  \n",
       "104  Title: Entendendo o SONO | Os Sócios Podcast #...  "
      ]
     },
     "execution_count": 22,
     "metadata": {},
     "output_type": "execute_result"
    }
   ],
   "source": [
    "df.iloc[idxs]"
   ]
  },
  {
   "cell_type": "code",
   "execution_count": 23,
   "metadata": {},
   "outputs": [],
   "source": [
    "class Retriever:\n",
    "    def __init__(self, path):\n",
    "        self.df = pd.read_csv(path)\n",
    "        self.vectorizer = TfidfVectorizer() # Important note here: there are many default parameters that do not show in this call.\n",
    "        self.X = vectorizer.fit_transform(self.df['content'])\n",
    "    \n",
    "    def invoke(self, query, k=3):\n",
    "        Q = vectorizer.transform([query])\n",
    "        R = X.dot(Q.T)\n",
    "        idxs_and_scores = sorted([[idx, x[0]]for idx, x in enumerate(R.toarray())], key=lambda x: x[1], reverse=True)\n",
    "        retrieved = np.array(idxs_and_scores[:k])\n",
    "        idxs = np.array(retrieved)[:, 0].astype(int)\n",
    "        return df.iloc[idxs]"
   ]
  },
  {
   "cell_type": "code",
   "execution_count": 24,
   "metadata": {},
   "outputs": [],
   "source": [
    "retriever = Retriever(path=\"../data/data_podcasts_title_content.csv\")"
   ]
  },
  {
   "cell_type": "code",
   "execution_count": 26,
   "metadata": {},
   "outputs": [
    {
     "data": {
      "text/html": [
       "<div>\n",
       "<style scoped>\n",
       "    .dataframe tbody tr th:only-of-type {\n",
       "        vertical-align: middle;\n",
       "    }\n",
       "\n",
       "    .dataframe tbody tr th {\n",
       "        vertical-align: top;\n",
       "    }\n",
       "\n",
       "    .dataframe thead th {\n",
       "        text-align: right;\n",
       "    }\n",
       "</style>\n",
       "<table border=\"1\" class=\"dataframe\">\n",
       "  <thead>\n",
       "    <tr style=\"text-align: right;\">\n",
       "      <th></th>\n",
       "      <th>titles</th>\n",
       "      <th>content</th>\n",
       "    </tr>\n",
       "  </thead>\n",
       "  <tbody>\n",
       "    <tr>\n",
       "      <th>100</th>\n",
       "      <td>Entendendo o SONO | Os Sócios Podcast #77</td>\n",
       "      <td>Title: Entendendo o SONO | Os Sócios Podcast #...</td>\n",
       "    </tr>\n",
       "    <tr>\n",
       "      <th>99</th>\n",
       "      <td>Entendendo o SONO | Os Sócios Podcast #77</td>\n",
       "      <td>Title: Entendendo o SONO | Os Sócios Podcast #...</td>\n",
       "    </tr>\n",
       "    <tr>\n",
       "      <th>114</th>\n",
       "      <td>Entendendo o SONO | Os Sócios Podcast #77</td>\n",
       "      <td>Title: Entendendo o SONO | Os Sócios Podcast #...</td>\n",
       "    </tr>\n",
       "    <tr>\n",
       "      <th>115</th>\n",
       "      <td>Entendendo o SONO | Os Sócios Podcast #77</td>\n",
       "      <td>Title: Entendendo o SONO | Os Sócios Podcast #...</td>\n",
       "    </tr>\n",
       "    <tr>\n",
       "      <th>222</th>\n",
       "      <td>Puravida: Vitamina D e Pés no Solo | Os Sócios...</td>\n",
       "      <td>Title: Puravida: Vitamina D e Pés no Solo | Os...</td>\n",
       "    </tr>\n",
       "  </tbody>\n",
       "</table>\n",
       "</div>"
      ],
      "text/plain": [
       "                                                titles  \\\n",
       "100          Entendendo o SONO | Os Sócios Podcast #77   \n",
       "99           Entendendo o SONO | Os Sócios Podcast #77   \n",
       "114          Entendendo o SONO | Os Sócios Podcast #77   \n",
       "115          Entendendo o SONO | Os Sócios Podcast #77   \n",
       "222  Puravida: Vitamina D e Pés no Solo | Os Sócios...   \n",
       "\n",
       "                                               content  \n",
       "100  Title: Entendendo o SONO | Os Sócios Podcast #...  \n",
       "99   Title: Entendendo o SONO | Os Sócios Podcast #...  \n",
       "114  Title: Entendendo o SONO | Os Sócios Podcast #...  \n",
       "115  Title: Entendendo o SONO | Os Sócios Podcast #...  \n",
       "222  Title: Puravida: Vitamina D e Pés no Solo | Os...  "
      ]
     },
     "execution_count": 26,
     "metadata": {},
     "output_type": "execute_result"
    }
   ],
   "source": [
    "query = \"longo da evolução de ficou alinhado com isso um Quando o Sol nasce a gente tá acordando E aí quando o sol está se pondo a gente já começa a ficar mais relaxado pronto para o período Leiria né da noite de seria o ideal Então como é que tá a sua relação do ciclo circadiano hoje com as pessoas e como que isso afeta\"\n",
    "\n",
    "retriever.invoke(query, k=5)"
   ]
  },
  {
   "cell_type": "code",
   "execution_count": null,
   "metadata": {},
   "outputs": [],
   "source": []
  }
 ],
 "metadata": {
  "kernelspec": {
   "display_name": "env",
   "language": "python",
   "name": "python3"
  },
  "language_info": {
   "codemirror_mode": {
    "name": "ipython",
    "version": 3
   },
   "file_extension": ".py",
   "mimetype": "text/x-python",
   "name": "python",
   "nbconvert_exporter": "python",
   "pygments_lexer": "ipython3",
   "version": "3.9.13"
  }
 },
 "nbformat": 4,
 "nbformat_minor": 2
}
