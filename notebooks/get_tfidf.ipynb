{
 "cells": [
  {
   "cell_type": "code",
   "execution_count": 3,
   "metadata": {},
   "outputs": [],
   "source": [
    "import pandas as pd\n",
    "import numpy as np\n",
    "import re\n",
    "import nltk\n",
    "from nltk.corpus import stopwords\n",
    "\n",
    "url = \"../data/data_playlists_enem.csv\"\n",
    "df = pd.read_csv(url)"
   ]
  },
  {
   "cell_type": "code",
   "execution_count": 4,
   "metadata": {},
   "outputs": [],
   "source": [
    "df['metadado'] = df['content'].apply(lambda x: x.split('\\n\\n')[0])"
   ]
  },
  {
   "cell_type": "code",
   "execution_count": 5,
   "metadata": {},
   "outputs": [
    {
     "name": "stderr",
     "output_type": "stream",
     "text": [
      "[nltk_data] Downloading package stopwords to\n",
      "[nltk_data]     C:\\Users\\gabri\\AppData\\Roaming\\nltk_data...\n",
      "[nltk_data]   Package stopwords is already up-to-date!\n"
     ]
    }
   ],
   "source": [
    "nltk.download('stopwords')\n",
    "stop_words = set(stopwords.words('portuguese'))\n",
    "\n",
    "def preprocess_text(text):\n",
    "    text = text.lower()\n",
    "    text = re.sub(r'\\d+', '', text)\n",
    "    text = re.sub(r'\\b\\w{1,2}\\b', '', text)  \n",
    "    text = re.sub(r'[^\\w\\s]', '', text) \n",
    "    text = ' '.join(word for word in text.split() if word not in stop_words)\n",
    "    return text"
   ]
  },
  {
   "cell_type": "code",
   "execution_count": 6,
   "metadata": {},
   "outputs": [
    {
     "name": "stdout",
     "output_type": "stream",
     "text": [
      "Title: HISTÓRIA GERAL #8 FEUDALISMO\n",
      "Views count: 1112139\n",
      "Publish date: 2017-01-06 00:00:00\n",
      "Author: Parabólica\n",
      "Description: Unknown\n",
      "Link video: https://www.youtube.com/watch?v=EDZVqcvffgQ\n",
      "\n",
      "E aí gente tudo bem bem-vindos a mais um vídeo do parabólica hoje conforme prometido no vídeo que eu expliquei o que que ia acontecer aqui no canal hoje começa o nosso curso de história para o Enem curso específico para o Enem eh eu já falei como que vai ser esse curso eu deixa o link aqui na descrição do vídeo que eu postei ontem tá aqui na descrição explicando direitinho Tintim por Tintim como é que vai ser esse curso Então se você quiser chegar lá no ENEM no final do ano seja qual ano você tiver vendo esse vídeo Se Você Quiser chegar lá no Enem e saber tudo de história de ciências humanas de uma maneira geral Ah se inscreve aí no canal para você acompanhar né o nosso curso Lembrando que toda sexta-feira às 9 horas da noite serão postados vídeos aqui desse curso a primeira aula é hoje e a primeira a\n",
      "title história geral feudalismo views count publish date author parabólica description unknown link video httpswwwyoutubecomwatchedzvqcvffgq gente tudo bem bemvindos vídeo parabólica hoje conforme prometido vídeo expliquei acontecer aqui canal hoje começa curso história enem curso específico enem falei vai curso deixa link aqui descrição vídeo postei ontem aqui descrição explicando direitinho tintim tintim vai curso então quiser chegar enem final ano ano vendo vídeo quiser chegar enem saber tudo história ciências humanas maneira geral inscreve canal acompanhar curso lembrando toda sextafeira horas noite postados vídeos aqui desse curso primeira aula hoje primeira aula primeiro tema pode discutido enem feudalismo então enrolação vamos falar feudalismo sei todo mundo aqui querendo maneira didática maneira simples tranquila assim asas asas debate justamente enem enem gosta fazer espera gente então sabe feudalismo modo produção sociedade comporta sociedade sobrevive produz maneira econômic\n"
     ]
    }
   ],
   "source": [
    "print(df['content'].values[0][:1000])\n",
    "df['content'] = df['content'].apply(preprocess_text)\n",
    "print(df['content'].values[0][:1000])"
   ]
  },
  {
   "cell_type": "code",
   "execution_count": 7,
   "metadata": {},
   "outputs": [],
   "source": [
    "df['metadata_and_content_clean'] = df['metadado'] + '\\n\\n' + df['content']"
   ]
  },
  {
   "cell_type": "code",
   "execution_count": 8,
   "metadata": {},
   "outputs": [],
   "source": [
    "from sklearn.feature_extraction.text import TfidfVectorizer\n",
    "\n",
    "vectorizer = TfidfVectorizer() # Important note here: there are many default parameters that do not show in this call.\n",
    "X = vectorizer.fit_transform(df['metadata_and_content_clean'])"
   ]
  },
  {
   "cell_type": "code",
   "execution_count": 22,
   "metadata": {},
   "outputs": [
    {
     "name": "stdout",
     "output_type": "stream",
     "text": [
      "['Title: HISTÓRIA GERAL #22 1ª GUERRA MUNDIAL\\nViews count: 539037\\nPublish date: 2017-06-09 00:00:00\\nAuthor: Parabólica\\nDescription: Unknown\\nLink video: https://www.youtube.com/watch?v=kCKuP2OqfEs\\n\\ntitle história geral guerra mundial views count publish date author parabólica description unknown link video httpswwwyoutubecomwatchkckupoqfes saber sobre guerra importante última aula gente falou imperialismo viram imperialismo países potências européias estados unidos disputando territórios américa áfrica ásia quetta europa europa conflitos têm conflitos passando conflitos chega perto conflitos áfrica ásia passando países europeus disputando territórios áfrica ásia então europa vive período assim certa prosperidade porque ganha dinheiro custa custas outros continentes europa gente costuma dizer vive período gente chama belle époque verifica bela época europa bem próspera inglaterra exemplo vive antes segunda guerra mundial vitoriana período prosperidade industrial frança crescendo produção cultural grande alemanha acabado formar enriquecendo enriquecendo então europa período fértil produção artística cultural economia guerra vem destruir tudo então coisa importante falei mil vezes vou falar podem achar cara chato mundo guerra trouxe ruptura mundo clássico mundo perfeito pra europa mundo moderno mundo agora engastado gente entra século fazer transformação ruptura entender pra entender guerra vão entender entender século entender século então guerra transforma pessoas guerra transforma sociedade mundo europa clássico lindo estético mundo moderno prático porque guerra precisa praticidade guerra precisa estética máquina morte gente precisa entender pois então vamos motivos guerra imperialismo tema última aula países europeus disputando território potências européias disputando territórios europa áfrica ásia américa principalmente precata principalmente seco então entraram nesse conflito porque potências européias discutindo região áfrica vão ficar gerou primeira guerra mundial vou falar tanto porque aula imperialismo última link descrição card bom gerente então primeiro ponto vamos segundo ponto nacionalismos nacionalismos alguns estados nacionais formando europa estados nacionais consequentemente vão fazer guerras outros países novos formando europa país novo forma faz tenta lucrar lucrar novo parada tenta conquistar territórios outros países exemplo alemanha alemanha país antes final século tornou país alemanha itália principalmente caso alemanha gente chama pam germanista significa pan união unificação germanista germânia unificação prússia antes existir alemanha passou guerra contra frança chamada guerra franco prussiana chanceler prússia chamava othon fun bismarck cara importante história através dessa guerra contra frança conseguiram vencer frança tomará alguns territórios frança uniafro territórios tomados frança principalmente ansiosos helena alguns outros reinos irmã nicky cusack região formaram grande império alemão conhecido segundo right otto von bismarck formou segundo império alemão alemanha nova parada começou nova grande rival frança porque tomou território frança coisa tornou rival exemplo inglaterra porque virou país começou disputar inglaterra mercado capitalista disputava produção carvão aço inglaterra poderoso então história mal chegou quer sentar janelinha alemã falou assim quero sentar janelinha quero peguei pedaço frança quero melhorar produção aço carvão disputar inglaterra quero disputar território áfrica porque pegar melhores lugares existia ainda então nacionalismo formação estado nacional alemão gente chama fãs urbanismo outra famoso pants lábios islamismo gente importante países eslavos leste europeu deixando tela pipocando pra então gente serve macedônia gente ali bósnia herzegovina bósnia herzegóvina países dominados grande império europa chamado império austro húngaro queriam queriam acabar dominação império austro húngaro acreditavam acabar dominação império'\n",
      " 'Title: HISTÓRIA GERAL #22 1ª GUERRA MUNDIAL\\nViews count: 539037\\nPublish date: 2017-06-09 00:00:00\\nAuthor: Parabólica\\nDescription: Unknown\\nLink video: https://www.youtube.com/watch?v=kCKuP2OqfEs\\n\\ntitle história geral guerra mundial views count publish date author parabólica description unknown link video httpswwwyoutubecomwatchkckupoqfes disputava produção carvão aço inglaterra poderoso então história mal chegou quer sentar janelinha alemã falou assim quero sentar janelinha quero peguei pedaço frança quero melhorar produção aço carvão disputar inglaterra quero disputar território áfrica porque pegar melhores lugares existia ainda então nacionalismo formação estado nacional alemão gente chama fãs urbanismo outra famoso pants lábios islamismo gente importante países eslavos leste europeu deixando tela pipocando pra então gente serve macedônia gente ali bósnia herzegovina bósnia herzegóvina países dominados grande império europa chamado império austro húngaro queriam queriam acabar dominação império austro húngaro acreditavam acabar dominação império austrohúngaro deveriam unir torno país famosa grande sérvia então país abismo tentativa unificar todos países leste europeu porque fracos separados juntos inclusive receberam apoio rússia poderiam acabar dominação teoria tempo império austro húngaro acabando dominação império austro húngara conseguiriam livre parada entendendo imperialismo nacionalismos navios nacionalismos pam germanista pães lavizoo relação estreita primeira guerra mundial vai rivalidades quais rivalidades algumas gente falou aqui rivalidade entendam alemanha acaba sendo rival praticamente todos países alemanha rivalidade importante frança disputavam território áfrica questão marroquina disputa europa alface lorena alemanha formaria tomou território frança império austro húngaro amigo amigo alemanha treta países lados alemanha briga inglaterra porque disputavam grande partido industrializado capitalista momento alemanha novamente briga rússia porque rússia império alemanha queria aumentar império conquistar territórios próximos rússia principalmente alemanha queria construir ferrovia ligasse berlim bagdá iraque atrapalhava planos russos planos imperialistas russos construindo ferrovia então treta caramba percebe elemento envolvido quase tudo estopim guerra gente fala estopim verdade estopim significa alma justificativa países entraram guerra porque basta tentando possuía paz armada armas gente quer tomar cuidado entregar pode destruir mundo todo famosa paz armada herdeiro império austrohúngaro falei pra sarajevo países lavar sarajevo capital bósnia países lavam aborda recorda assassinado grupo sérvios assassinado grupo contra dominação império austrohúngaro região dali império austro húngaro declarou guerra sérvia consequentemente rússia defendia sérvia defende países eslavos guerra inicia partir dali então assim muita gente fala guerra amostras strange talvez motivo estopim porque guerra esquentando conta disputa alemanha frança inglaterra conta imperialismo então poder guerra todo necessariamente entra famosa política alianças países vão começar formar alianças poder entrar guerra importante saber alianças principalmente questão afinidade países entendem melhor ali então formada primeiramente famosa tríplice aliança tríplice aliança formada alemanha envolvido quase todos conflitos amiguinha império austro húngaro itália porque itália gente fala itália ainda itália acabado formar enquanto país final século assim alemanha tantas conquistas alemanha imaginou vou entrar guerra lado alemanha porque conquistas alemanha conquistas questão exemplo idade outro lado famosa tríplice contente formada tríplice entente basicamente todos países têm tretas alemanha terra gente falou porque legais frança império russo rússia'\n",
      " 'Title: HISTÓRIA GERAL #22 1ª GUERRA MUNDIAL\\nViews count: 539037\\nPublish date: 2017-06-09 00:00:00\\nAuthor: Parabólica\\nDescription: Unknown\\nLink video: https://www.youtube.com/watch?v=kCKuP2OqfEs\\n\\ntitle história geral guerra mundial views count publish date author parabólica description unknown link video httpswwwyoutubecomwatchkckupoqfes poder entrar guerra importante saber alianças principalmente questão afinidade países entendem melhor ali então formada primeiramente famosa tríplice aliança tríplice aliança formada alemanha envolvido quase todos conflitos amiguinha império austro húngaro itália porque itália gente fala itália ainda itália acabado formar enquanto país final século assim alemanha tantas conquistas alemanha imaginou vou entrar guerra lado alemanha porque conquistas alemanha conquistas questão exemplo idade outro lado famosa tríplice contente formada tríplice entente basicamente todos países têm tretas alemanha terra gente falou porque legais frança império russo rússia disputas alemanha gente falando países europeus guerra afeta mundo guerra mundial estados unidos vai entrar tudo bem gente amigos entendemos bem processo formação alianças motivos guerra guerra ruptura europa entenderam pode ter certeza sabendo assim metade primeira guerra mundial parte talvez parte importante final guerra importante guerra gente sabe agora desdobramentos guerra gente vai ficar ficavam falando aqui batalha batalhinha porque cobrado gente vai falar gente vai falar agora fez chegou fim guerra desenvolveu chegar simplesmente entender conseqüências precisam saber guerra começa toda guerra começa tipo guerra chamada guerra movimentos países tentam movimentar mapa europeu jogou sabe movimentação tenta conquistar territórios frança vão colocar mapa frança sempre problema problema frança frança alemanha inglaterra então frança sempre região onde vai ter guerra porque inglaterra poder atacar alemanha vai frança alemanha poder atacar inglaterra vai frança inglaterra posição favorável percebe inglaterra mar marinha britânica forte segundo nome gente costuma chamar primeira guerra mundial famoso famosa guerra trincheiras ficou conhecida guerra trincheiras simplesmente buracos cavados chão logicamente deixam soldados poderem esconderem ali batalha porque importante trincheiras gente fala soldado identificado pressionado durante dias meses nessa trincheira porque primeira guerra mundial começou guerra grande relação tecnologia então soldado muitos recursos tipo assim avião começo guerra avião final guerra tanque guerra começo guerra final guerra então soldados ficar durante meses entrincheirados vivendo vivendo lama convivendo ratos guerra inicialmente maneira lenta inércia soldados avançam lentamente justamente conta dessas dessas questões inclusive soldados morriam tomar tiros outros exércitos morriam porque ficaram infectados urina ratos corpos outros soldados exército faleciam ali dava tempo enterrar lugar infectando solo nenhum contaminando solos olha algumas pessoas realmente ficar primeira guerra mundial soldado pior segunda porque segunda recursos então soldado infantaria soldado ali sofria bem sofremos logicamente soldados lutaram primeira segunda status maior talvez sofrido tanto gente costuma dizer soldado ali fica trincheira primeira guerra mundial pesada conta falta recursos tecnológicos inicialmente questão interatividade faz questão indicar filme pra têm certeza maioria conhece filme sessão tarde filme novo netflix chamado cavalo guerra coloco tiro guerra história cavalo vai primeira guerra mundial porque legal entendeu filme cavalo guerra toda história cavalinho chora lado cavalo dpr chama etau bonita história cavalo guerra mostra cavalo participando guerra desde início fim podem assistir sim assistiu'\n",
      " 'Title: HISTÓRIA GERAL #22 1ª GUERRA MUNDIAL\\nViews count: 539037\\nPublish date: 2017-06-09 00:00:00\\nAuthor: Parabólica\\nDescription: Unknown\\nLink video: https://www.youtube.com/watch?v=kCKuP2OqfEs\\n\\ntitle história geral guerra mundial views count publish date author parabólica description unknown link video httpswwwyoutubecomwatchkckupoqfes então soldado infantaria soldado ali sofria bem sofremos logicamente soldados lutaram primeira segunda status maior talvez sofrido tanto gente costuma dizer soldado ali fica trincheira primeira guerra mundial pesada conta falta recursos tecnológicos inicialmente questão interatividade faz questão indicar filme pra têm certeza maioria conhece filme sessão tarde filme novo netflix chamado cavalo guerra coloco tiro guerra história cavalo vai primeira guerra mundial porque legal entendeu filme cavalo guerra toda história cavalinho chora lado cavalo dpr chama etau bonita história cavalo guerra mostra cavalo participando guerra desde início fim podem assistir sim assistiu assistiu vai rever filme ter ter vídeo aula peço repararem cenários guerra porque começo cavalo função serve cavalaria britânica então soldados cavalaria britânica espadas batalhar olha guerra iniciou tecnologia precária tecnologia custe caro campos verdinhas final guerra vão ver metralhadoras vetor guerras ouviam muita coisa cavalo serve tanto cavalaria pouco prático vai dia poder carregar feridos então assistiu pode deixar comentários assistiu estilo vai assistir pois novo vai ver primeira vez reparem cenários reparem neste sentido transformação primeira guerra mundial trazendo mundo acho interessante cinto indica filme aulas guerra mundial bom então entenderam bem trincheira queria agora umas datas importantes ano itália pertence tríplice aliança falar virou casaca outra folha porque muda lado gente importante porque oferecia nada fato guerra acabasse ali afinidade tríplice entente ofereceu inglaterra itália passa defender gente acabar primeira guerra mundial olha repare falando vai importante posteriores gente fala segunda guerra itália seduzida raça após primeira guerra mundial então enfraquece aliança entra outra data importante novembro império russo abandona primeira guerra mundial rússia apanhando condenada rússia passando problema interno chamado revolução russa então faz acordo alemanha acordo base falou vou atacar ataca gente gente passando problema interno saindo guerra pacífico fundac balançou nesse momento estados unidos falam assim olha guerra estendendo vou ter entrar pra acabar estados unidos entra primeira guerra mundial finalzinho entrando pra ajudar tríplice entende porque estados unidos entrou finalzinho gente estados unidos gente falou agora participando guerra grande financiador lembre guerra gera lucro alguém principalmente participando denunciantes países intensa principalmente inglaterra devedores estados unidos estados unidos dia produtos industrializados inglaterra durante guerra armas produção bélica estados unidos servia primeira guerra mundial estados unidos falava perder ter condições pagar gente ajeitar laçado guerra estendendo hora gente entrar acabar processo guerra todo mundo devendo pra gente começar pagar coisa extremamente importante estados unidos maior potência mundial maior potência mundial pode colocar ali antes primeira guerra inglaterra alemanha começa primeira guerra mundial países devendo estados unidos financiando guerra estados unidos torna maior potência mundial hoje conta financiamento primeira guerra tornou potência partir primeira guerra mundial concordam comigo sido fácil guerra estados unidos guerra principalmente europa estados unidos entra novo países desgastados consegue fato fazer alemanha saia derrotada definitivamente guerra interesses próprios nicrom interesses divisão questão financiamento dinheiro'\n",
      " 'Title: HISTÓRIA GERAL #22 1ª GUERRA MUNDIAL\\nViews count: 539037\\nPublish date: 2017-06-09 00:00:00\\nAuthor: Parabólica\\nDescription: Unknown\\nLink video: https://www.youtube.com/watch?v=kCKuP2OqfEs\\n\\ntitle história geral guerra mundial views count publish date author parabólica description unknown link video httpswwwyoutubecomwatchkckupoqfes laçado guerra estendendo hora gente entrar acabar processo guerra todo mundo devendo pra gente começar pagar coisa extremamente importante estados unidos maior potência mundial maior potência mundial pode colocar ali antes primeira guerra inglaterra alemanha começa primeira guerra mundial países devendo estados unidos financiando guerra estados unidos torna maior potência mundial hoje conta financiamento primeira guerra tornou potência partir primeira guerra mundial concordam comigo sido fácil guerra estados unidos guerra principalmente europa estados unidos entra novo países desgastados consegue fato fazer alemanha saia derrotada definitivamente guerra interesses próprios nicrom interesses divisão questão financiamento dinheiro estados unidos após primeira guerra mundial assim primeira guerra mundial termina alemanha império austro húngaro derrotado conta todos fatores gente falou importância estados unidos entrada guerra final importante todo mundo saber tríplice pente venceu primeira guerra mundial entenderam bem tudo gente falou porque aconteceu guerra processo transição guerra trazendo pra gente importante assistam próxima hora gente vai falar consequências dessa guerra porque gente vai começar falar sobre período pós primeira guerra mundial antes segunda guerra mundial gente chama período guerras gente vai falar tratados feitas gente vai falar condições colocadas alemanha perdeu guerra grande líder tríplice aliança importante percam importante porque importante conhecer segunda guerra mundial espero gostado prazer falar desse tema tão interessante tema tão discutido hoje muita gente muita gente dúvida gostaram então peço curtem compartilha inscreva canal dessa força gente aqui madrugada gravando vídeo amanhã vamos partir edição aqui programa tão gripado problema voz gente aqui pra fazer bom canal vídeo todo mundo sucesso todo mundo provas final ano grande prazer vou ficando aqui grande beijo todos próximo vídeo parabólica tchau'\n",
      " 'Title: PERÍODO JOANINO PARA O ENEM\\nViews count: 365927\\nPublish date: 2017-06-15 00:00:00\\nAuthor: Parabólica\\nDescription: Unknown\\nLink video: https://www.youtube.com/watch?v=F8c422R-C1w\\n\\ntitle período joanino enem views count publish date author parabólica description unknown link video httpswwwyoutubecomwatchfcr salve salve gente tudo bem bemvindos vídeo parabólica hoje dia videoaula história brasil momento decisivo vamos falar hoje período joanino finalzinho processo colonial brasileiro quer dizer próximas aulas gente vai entrando período império brasil independente vou enrolar gente começa falando sobre período chamado período joanino período aqui brasil vai período joanino simples família real portuguesa veio residir brasil durante período vieram quê vieram porque fugindo napoleão bonaparte imperador francês bom gente fez aula aqui sobre napoleão guerras napoleônicas então assistiu sabe bem acontecendo napoleão decretou bloqueio continental inglat terra nenhuma nação poderia continuar comercializando inglaterra desobedecesse invadido tropas francesas portugal condições condições romper inglaterra porque portugal dependia economicamente inglaterra inclusive devia pra inglaterra tratado méa panos vinhos coisas gente falou tudo aqui aulas fala assim aconteceu então príncipe regente portugal dom joão chegou conclusão junto ministros hora abandonar barco portugal enquanto outras nações batalhem tentassem derrotar napoleão família real portuguesa veio brasil fugindo napoleão veio veio gente caramba família real muitos cidadãos portugueses ficaram medo disso tanto cidadãos elite quanto cidadãos comuns vieram fugindo napoleão portugal ficou desabitado ficou desabitado veio muita gente portugal brasil dom joão veio negociando inclusive inglaterra saberem marinha britânica fez escolta família real brasil chegaram brasil vai encontrar vários livros falando problema ali desinteria problema piolho pessoal arreia piolho verdade tudo aconteceu porque viagem tão rápida primeira vez nobreza portuguesa viaja colônia colônia colônia próspera menos então reclamaram tudo reclamaram desconforto viagem porque nobreza acostumada maior parte população pro rio janeiro capital brasil outra pedaço pequeno principalmente família real dom joão chama período joanino porque dom joão família real inicialmente desceu salvador motivos descer salvador conhecer primeira capital colônia lógico fazer agrado população aqui brasil mostrar quanto família real portuguesa preocupa habitantes colônia questão política focos desse período localizados principalmente rio janeiro precisam saber bem pontos importantes gente vai falar aqui coisa extremamente importante daí começa surgir verdade primeira grande rivalidade brasileiros portugueses todo mundo fica falando guerra meme coisa toda surgiu tudo discussão brasileiro apiada português portugues cont apiada brasileiro porque prioridade principalmente aqui rio janeiro sempre pros portugueses então brasileiros sair residências portugueses ocuparem portugueses ocupavam melhores cargos brasil nesse período então surgiu rivalidade importante frente vai resultar independência brasil porque brasileiro vai querer colonizado portugueses claro aqui gente falando daquela fase final daquele stopim povo brasileiro saco cheio disso importante falar desse período agora então gente falando rio janeiro dessa rivalidade surgindo então família real chega brasil passa salvador desce pro rio janeiro vai acontecer importante saber sobre importante todo mundo entenda brasil começa ganhar cara então começa ganhar gente vai falar ares europeizadas dom joão aqui brasil permitiu criação universidades bibliotecas teatros coisas importantes permitiu tudo gente sabia quanto tempo família real ficar brasil então vão tentar europeizar brasil justamente receber portugueses reparem brasil brasil nada antes disso concepção opa moto brasil'\n",
      " 'Title: PERÍODO JOANINO PARA O ENEM\\nViews count: 365927\\nPublish date: 2017-06-15 00:00:00\\nAuthor: Parabólica\\nDescription: Unknown\\nLink video: https://www.youtube.com/watch?v=F8c422R-C1w\\n\\ntitle período joanino enem views count publish date author parabólica description unknown link video httpswwwyoutubecomwatchfcr aqui gente falando daquela fase final daquele stopim povo brasileiro saco cheio disso importante falar desse período agora então gente falando rio janeiro dessa rivalidade surgindo então família real chega brasil passa salvador desce pro rio janeiro vai acontecer importante saber sobre importante todo mundo entenda brasil começa ganhar cara então começa ganhar gente vai falar ares europeizadas dom joão aqui brasil permitiu criação universidades bibliotecas teatros coisas importantes permitiu tudo gente sabia quanto tempo família real ficar brasil então vão tentar europeizar brasil justamente receber portugueses reparem brasil brasil nada antes disso concepção opa moto brasil nada antes disso concepção portuguesa porque brasil colônia exploração brasil agora conç começa ganhar cara europeizada ponto vista português dizem civilizando brasil agora vou dar dica verdade dois detalhes detalhes importantes precisam saber aula muita gente esquece disso falo assim quiserem colocar caderno anotando extremamente importante importante extremamente importante vou falar agora precisam anotar vai fazer entenderem processo independência brasil logo ano chegada família real declarada abertura portos nações amigas significa brasil abre portos nações quiserem comercializar diretamente conosco dom joão faz simples motivo acabando monopólio pacto colonial monopólio tudo sai brasil deve primeiro pra metrópole tudo sai colônia deve paraa metrópole fazendo pode enviar lucros bens coisas extraídas aqui brasil portugal simples motivo família real aqui família real aqui portugal cercado napoleão então pode fazer então abre portos nações amigas quebra monopólio brasil portugal porque família real morando brasil então entendam importante porque brasil avançando processo independência outra questão importante além abertura portos nações amigas gente feito acordo grãbretanha chamado tratado comércio amizade alguns locais vão achar tratado cooperação amizade significa produtos britânicos entrarem brasil pagam menos impostos então vou dar exemplo produto britânico quiser entrar brasil cerca acrescentado impostos produto entrar verdade produtos podem variar gente coloca ali importante saber número saber produto britânico barato entrar brasil produtos outr outras nações impostos chegam significa brasil dando prioridade pros produtos britânicos justamente porque relação portugal verdade sempre passou relação pro brasil relação econômica inglaterra relação agora dependência econômica inglaterra comprar produto britânico inglês brasil ficou agora fácil conta disso conta dessas facilidades comércio então pessoas compravam produtos desnecessários nesse período aqui brasil patins gelo quê brasil ski esquiar neve vou ali paraa baril vai escambal máximo vai fazer vai fazer esquibunda barranco lado casa porque neve aqui brasil pessoas compravam conta facilidades então significa quê dando prioridade pra inglaterra então percebem porque tratado abertura portos nações amigas diz nações amigas amigas verdade inglaterra porque tratado favorece inglaterra comércio então ponto importante entender período joanino devem saber porque grande parte historiadores falam desse processo estudam processo levam extremamente influenciados enem influenciados enem geram extrema influência prova enem simplesmente dizem seguinte historiadores viveram ainda nativa independência brasil vai todo mundo sabe'\n",
      " 'Title: PERÍODO JOANINO PARA O ENEM\\nViews count: 365927\\nPublish date: 2017-06-15 00:00:00\\nAuthor: Parabólica\\nDescription: Unknown\\nLink video: https://www.youtube.com/watch?v=F8c422R-C1w\\n\\ntitle período joanino enem views count publish date author parabólica description unknown link video httpswwwyoutubecomwatchfcr vai fazer vai fazer esquibunda barranco lado casa porque neve aqui brasil pessoas compravam conta facilidades então significa quê dando prioridade pra inglaterra então percebem porque tratado abertura portos nações amigas diz nações amigas amigas verdade inglaterra porque tratado favorece inglaterra comércio então ponto importante entender período joanino devem saber porque grande parte historiadores falam desse processo estudam processo levam extremamente influenciados enem influenciados enem geram extrema influência prova enem simplesmente dizem seguinte historiadores viveram ainda nativa independência brasil vai todo mundo sabe disso tendo certa dependência relação portugal justamente porque dando agora prioridade paraa inglaterra portugal porque família real aqui significa quê praticamente ato independência naquele período praticamente independentes gente trocando dependência política relação portugal dependência econômica inglaterra souberem gente favor guarda souberem entender resto entender processo independência brasil tudo bem gente então claro todo mundo vamos seguir pra frente então bom sabendo tudo agora resto tranquilo entender aqui período joanino vamos então vamos seguindo período joanino dom joão criou banco brasil poxa criou banco brasil quê conceito abertura portos nações amigas pode utilizar banco portugal porque família real aqui grande parte elite portuguesa aqui portugal cercado frança então ter banco ter movimentação financeira diretamente brasil percebendo brasil ganhando estrutura nação agora brasil ganhando estrutura nação saindo pouco desse conceito colônia olha importante outra coisa importante dom joão inclusive meio resposta napoleão bonaparte europa dom joão conquistou anexou cisplatina território brasileiro cisplatina hoje cisplatina conhecida uruguai atual uruguai fala anexar sis platina território brasileiro região dava riquezas gente ali trabalhava questão pecuária região relativamente rica ver napoleão sendo ais platina colônia espanhola napoleão invadido espanha inclusive rei espanha colocado napoleão josé bonaparte irmão napoleão bonaparte então resposta napoleão tentativa trazer pro brasil território pode gerar economia então platina passa pertencer brasil guardem bem porque próxima aula próximas gente falar dom pedro vai primeiro imperador brasileiro vai perder cisplatina bom gente outra coisa importante terem noção dessas rivalidades surgindo brasileiros portugueses gente gente costuma chamar revolução pernambucana pernambuco pessoal população pernambuco irritado elite pernambuco pernambucano elite liberal tava irritada altos gastos coroa portuguesa tendo aqui brasil dom joão tava tendo aqui brasil atrasava salários soldados ali pernambuco funcionários públicos geral resolveram criticar governo dom joão surgiu revolução pernambucana falando tentaram verdade fazer revolta separatista verdade fizeram revolta separatista inicialmente conseguiram separar província pernambuco brasil transformar ideia criar governo provisório transformar pernambuco república muita influência independência estados unidos relação transformou estados unidos república movimento vai ter influência grande independência estados unidos influência grande liberal influência grande iluminista justamente criticavam processo aqui família real veio aqui usou luxo rio janeiro acabava pegando recursos todo brasil poder elevar vida portugueses vivendo ali rio janeiro logicamente revolução pernambucana reprimida'\n",
      " 'Title: PERÍODO JOANINO PARA O ENEM\\nViews count: 365927\\nPublish date: 2017-06-15 00:00:00\\nAuthor: Parabólica\\nDescription: Unknown\\nLink video: https://www.youtube.com/watch?v=F8c422R-C1w\\n\\ntitle período joanino enem views count publish date author parabólica description unknown link video httpswwwyoutubecomwatchfcr públicos geral resolveram criticar governo dom joão surgiu revolução pernambucana falando tentaram verdade fazer revolta separatista verdade fizeram revolta separatista inicialmente conseguiram separar província pernambuco brasil transformar ideia criar governo provisório transformar pernambuco república muita influência independência estados unidos relação transformou estados unidos república movimento vai ter influência grande independência estados unidos influência grande liberal influência grande iluminista justamente criticavam processo aqui família real veio aqui usou luxo rio janeiro acabava pegando recursos todo brasil poder elevar vida portugueses vivendo ali rio janeiro logicamente revolução pernambucana reprimida demais altura governo provisório reprimidos violentamente governo dom joão entendendo processo encaminhando brasil processo independência revolução pernambucana movimento republicano brasil vai tornar monarquia república bom tudo bem bem gente precisa entender algumas coisas ponto importante napoleão europa vai derrotado definitivamente ano vai derrotado definitivamente dom joão dom joão veio pro brasil família real portuguesa veio brasil nações derrotaram napoleão inglaterra áustria prússia rússia derrotaram napoleão prenderam napoleão napoleão vai morrer organizando agora ver vão fazer europa presença agora napoleão porque derrotaram dit cujo dom joão vai fazer aqui brasil importante porque divergência alguns aspectos importante saibam gente vai ter pedaço importante história período joanino chamado missão francesa missão francesa vinda artistas clássicos franceses brasil vieram fazer alguns artistas inclusive oficiais corte napoleônica napoleão agora derrotado vieram fazer brasil divergência falo muita gente fala contratados dom joão gente fala contratados dom joão gente fala vieram livre espontânea vontade rugendas debr artistas francê maioria vieram brasil vieram fazer vieram tentativa influenciar brasil criar movimento artístico gente vai conhecer academia brasileira belas artes toda nação naquele período movimento artístico importante sério geralmente clássico brasil colônia gente falou agora pouco brasil começando ter status independência falou agora então brasil vai tentar ter movimento artístico gente pega influência franceses porque segundo concepção época civilização europa civilização aqui então vem trazer influência vem tentar criar muita gente vai falar tentativa meio frustrada porque negócio pra frente agora voltando pra europa aula napoleão gente falou europa queda napoleão países derrotaram napoleão criaram fizeram tratado viena tentar redividir mapa europeu agora napoleão conquistou grande parte começam devolver reinos antigos reis napoleão tomado dom joão ficou portugal fala assim ficou portugal merecia portugal segundo concepção tratado viena dom joão merece portugal porque batalhou contra napoleão fugiu pro brasil vai entrar negócio extremamente importante outra coisa extremamente decisiva entenderem partir disso sabendo pode perder dom joão perdendo portugal porque fugiu pra colônia agora então fica colônia perdeu metrópole dom joão declara eleva brasil categoria reino unido portugal garves significa brasil tornou reino unido deixa colônia portugal assim dom joão usa justificativa fugi pra colônia reino extremamente importante quê porque brasil formalmente deixou colônia agora quê reino unido portugal garves'\n",
      " 'Title: PERÍODO JOANINO PARA O ENEM\\nViews count: 365927\\nPublish date: 2017-06-15 00:00:00\\nAuthor: Parabólica\\nDescription: Unknown\\nLink video: https://www.youtube.com/watch?v=F8c422R-C1w\\n\\ntitle período joanino enem views count publish date author parabólica description unknown link video httpswwwyoutubecomwatchfcr tomado dom joão ficou portugal fala assim ficou portugal merecia portugal segundo concepção tratado viena dom joão merece portugal porque batalhou contra napoleão fugiu pro brasil vai entrar negócio extremamente importante outra coisa extremamente decisiva entenderem partir disso sabendo pode perder dom joão perdendo portugal porque fugiu pra colônia agora então fica colônia perdeu metrópole dom joão declara eleva brasil categoria reino unido portugal garves significa brasil tornou reino unido deixa colônia portugal assim dom joão usa justificativa fugi pra colônia reino extremamente importante quê porque brasil formalmente deixou colônia agora quê reino unido portugal garves entendendo ponto importante entender dom pedro grito ipiranga ato brasil tava tendo status independência percebem importante gente gente pode falar desse processo amou atitude brasil agora reino unido portugal grande parte elite brasileira fala assim colônias formalmente odiou elite portuguesa inclusive elite retornando portugal porque napoleão sido derrotado elite portuguesa odiou porque agora têm colônia próspera maior colônia reino português brasil aumenta rivalidade brasil portugal olha ponto menos cereja bolo hein cereja bolo deixa coçar nariz aqui coçando horrores coçando tomar água vinha falando cereja bolo elite portuguesa estabelecida portugal dom joão ainda aqui brasil família real ainda aqui elite portuguesa aceitando independência brasil adquiriu durante período joanino fazem revolução algumas revoluções verdade gente chama revoluções revoluções porto revolução porto quiserem chamar elite portuguesa exigindo retorno família real recolonização brasil quiser saber portugal passando processo agora transformar monarquia monarquia parlamentarista onde rei reina vai ter todas esferas governo mãos falam gente quer recolonizar brasil recolonizar gente precisa rei família voltem portugal porque senão ficam protegendo ficam dando estatus maior pro brasil então exigem retorno família real condição família real retornar portugal dom joão perde trono português existe pressão elite brasileira dom joão retorne porque dom joão retornar tentarem recolonizar brasil elite brasileira agora avançada outros tempos vai deixar acontecer vai fazer independência brasil nesse momento dom joão desesperado sabe faz começa ouvir conselhos ministros fala faço faço faço volto portugal tentam recolonizar brasil elite brasileira faz independência fico brasil tiram reino português tiram trono português grande saída sacada mestre deixar dom pedro filho aqui brasil família real retorna portugal dom pedro fica brasil objetivo disso dom pedro vai ficar tentativa tapear elite portuguesa ficou aqui tapiar elite brasileira ideia seguinte dom pedro fica brasil elite brasileira tentar fazer independência tenta segurar der faça independência porque fizer independência tudo bem menos reino portugal reino próximo mesma família agora reino brasileiro portugal dom joão rei brasil dom pedro rei nações agora necessariamente ligadas formalmente mesma família poder então dom joão retorna portugal deixa dom pedro aqui brasil vai acontecer processo independência gente vai debater próximo vídeo próximo vídeo próxima vídeoaula aqui parabólica gente entenderam tudo gente falou foco entender processo brasil ganhando status colônia reino unido portugal daqui pouco nação independente portugal nunca esquecer cada vez dependentes inglaterra gente prazer deixa comentários'\n",
      " 'Title: PERÍODO JOANINO PARA O ENEM\\nViews count: 365927\\nPublish date: 2017-06-15 00:00:00\\nAuthor: Parabólica\\nDescription: Unknown\\nLink video: https://www.youtube.com/watch?v=F8c422R-C1w\\n\\ntitle período joanino enem views count publish date author parabólica description unknown link video httpswwwyoutubecomwatchfcr elite brasileira tentar fazer independência tenta segurar der faça independência porque fizer independência tudo bem menos reino portugal reino próximo mesma família agora reino brasileiro portugal dom joão rei brasil dom pedro rei nações agora necessariamente ligadas formalmente mesma família poder então dom joão retorna portugal deixa dom pedro aqui brasil vai acontecer processo independência gente vai debater próximo vídeo próximo vídeo próxima vídeoaula aqui parabólica gente entenderam tudo gente falou foco entender processo brasil ganhando status colônia reino unido portugal daqui pouco nação independente portugal nunca esquecer cada vez dependentes inglaterra gente prazer deixa comentários acharam dessa videoaula algumas dúvidas questionamentos aqui sempre ajudar preciso deixe seguir redes sociais gente próximo vídeo parabólica grande beijo'\n",
      " 'Title: HISTÓRIA GERAL #23 TRATADO DE VERSALHES\\nViews count: 187163\\nPublish date: 2017-06-16 00:00:00\\nAuthor: Parabólica\\nDescription: Unknown\\nLink video: https://www.youtube.com/watch?v=T-sajvY_F4Y\\n\\ntitle história geral tratado versalhes views count publish date author parabólica description unknown link video httpswwwyoutubecomwatchsajvy_fy agora sim gente tudo bem bem vindos vídeo parabólica continuidade aula história geral hoje hoje certeza saber menor todas ponto importante gente falar eixo algo liga coisa outra logicamente tratado versalhes tratado versalhes após primeira guerra mundial todo mundo sabe gente vai direto ponto aqui porque aqui legal inclusive estudar gente sabe tríplice aliança perdeu primeira guerra mundial principalmente entrada estados unidos sabem sempre guerra tamanho proporção preciso faça tratado reuniões néel tribunais decidir quais agora diretrizes serem tomadas após guerra tratado versalhes realizado versalhes realizado versalhes todo mundo ouviu falar palácio versalhes revolução francesa total tratado países vitoriosos geral vão agora impor condições derrotados primeira guerra mundial simples definido aula vai focar nisso definido gente saber conseqüências disso tudo definido tratado versalhes primeira guerra mundial vencedores perdedores escolhido culpado guerra culpado alemanha acompanharam vídeo aula sobre primeira guerra mundial podem perceber alemanha envolvidas todas quase todas rivalidades mundo alemanha inglaterra alemanha rússia alemanha frança agora rumo grande inimigo vai estados unidos então definido alemanha vai considerada culpada primeira guerra mundial perder grande parte territórios europa vou deixar mapa agora pra certamente vendo mapa comparação império alemão antes primeira guerra mundial agora mudando mapa império alemão inteiro agora alemanha após primeira guerra mundial reparem diminuição território alemão definido tratado versalhes feito ano após fim primeira guerra mundial colocado vigência verdade datas nesse sentido gente precisam preocupar bom além perder territórios europa exemplo perdeu territórios bélgica entregar devolver saci lorena frança frança perosa querendo territórios perdeu colônias áfrica importante alemanha sendo reduzida território menor preocupação alemanha tente revanche tudo aconteceu primeira guerra mundial preocupação alemanha tentar crescer novamente definido alemanha deveria pagar indenizações envolvidos tori ozu nessa guerra porque considerada culpada necessariamente derrotado certamente totalmente destruída pagar indenizações países vitoriosos aceitar ajuda econômica países ricos gera enorme endividamento alemanha gera inclusive dentro território alemão gera inflação gigantesca gera crise econômica terem noção aula livros registam alemanha após primeira guerra mundial relatos dizem sujeito entrava dentro café tomar simples falar valores moeda alemã período marco marco alemão café exemplo centavos marco alemão minutos tomando cafezinho pagar café aumentado preço pagá exemplo marcos centavos tornou marcos alemães quer dizer inflação minuto minuto outros tempos gente vai chamar hiperinflação brasil têm período hiperinflação outro contexto governo josé sarney anos gente vai ter vídeoaula história brasil então alemanha outras palavras aferrando existe preocupação países vitoriosos alemanha alemães vão fazer países paulo alemanha defendem alemanha pode ter exército tão vantajoso assim então alemanha imposições tratado versalhes alemanha vai ter reduzir exército mil soldados pode ter mil soldados justamente evitar rebaixamento crescimento militar novamente guardem hitler frente gente falando hitler ainda caso guerra mundial ainda chanceler vai dar jeito nisso vai desrespeitar tratado versalhes basicamente quiserem entender bem alemanha sentimento alemães tomaram sentimento nazismo chegar'\n",
      " 'Title: HISTÓRIA GERAL #23 TRATADO DE VERSALHES\\nViews count: 187163\\nPublish date: 2017-06-16 00:00:00\\nAuthor: Parabólica\\nDescription: Unknown\\nLink video: https://www.youtube.com/watch?v=T-sajvY_F4Y\\n\\ntitle história geral tratado versalhes views count publish date author parabólica description unknown link video httpswwwyoutubecomwatchsajvy_fy governo josé sarney anos gente vai ter vídeoaula história brasil então alemanha outras palavras aferrando existe preocupação países vitoriosos alemanha alemães vão fazer países paulo alemanha defendem alemanha pode ter exército tão vantajoso assim então alemanha imposições tratado versalhes alemanha vai ter reduzir exército mil soldados pode ter mil soldados justamente evitar rebaixamento crescimento militar novamente guardem hitler frente gente falando hitler ainda caso guerra mundial ainda chanceler vai dar jeito nisso vai desrespeitar tratado versalhes basicamente quiserem entender bem alemanha sentimento alemães tomaram sentimento nazismo chegar poder vão colocar justificativas justificativas propagandas fazer chegar poder alemanha vão definir humilhados tratado versalhes porque guerra vencedores perdedores porque consideraram alemanha culpada então entendendo tudo vai gerar sentimento revanchismo alemanha poder fazer segunda guerra mundial justificativas nazismo hitler chegou poder faz questão conquistar espaço vital atacar outras nações tema segunda guerra mundial importante falar porque grande parte historiadores entendem bem fantástico maior todos opinião eric hobsbawn eric hobsbawn extremos define primeira mundial segunda guerra mundial verdade podem considerados olhar mesma porque segunda consequência direta primeira primeira resolvido bem coisas segunda resolver agora dois lados coisas então gente costuma chamar guerra total gente definir primeiro segunda entendo diretamente ligadas guerra mundial justamente porque alemanha vai aceitar processo todo humilhação passou tratado versalhes criado ali partir significa criado tratado partir tratado versalhes famosa liga nações liga nações vai instituição hoje existe hoje onu organização nações unidas vídeos sobre urna pra explicando liga nações instituição mundial formada países envolvidos guerra mundial principalmente vitoriosos vai tentar objetivo promover paz mundial evitar segunda guerra mundial então ficava olho alemanha lembra nações colaborar paz povos evitar segundo conflito mundial sabe bem guerra mundial aconteceu significa interesses desejo certamente fracassado funcionou começou primeira guerra mundial acabou liga nações após segunda guerra mundial sim criaram organização nações unidas gente então rápido entenderem pontos tratado versalhes importante saber dando pano pra manga gente fazer segunda guerra mundial precisam saber bem espero entendam bem importância tratado versalhes busca paz paz tenta diminuir alemanha coisa importante guerra sempre gera lucro alguém sempre falo aqui falando tratado versalhes tenta gerar lucro principalmente países vitoriosos alemanha perdendo território tendo pagar indenizações alemanha inclusive gente vai falar disso história aula especificamente brasil alemanha deixou império tornou república neste processo chamada república weimar querem dizer república weimar aimar gente deseja falar importa sentido espero entendido espero gostado dessa vídeo aula rápida aqui agora história geral interessante acham gente grande prazer deixe seguindo redes sociais vou ficando aqui próximo vídeo parabólica grande beijo'\n",
      " 'Title: INDEPENDÊNCIA DO BRASIL PARA O ENEM\\nViews count: 301183\\nPublish date: 2017-06-29 00:00:00\\nAuthor: Parabólica\\nDescription: Unknown\\nLink video: https://www.youtube.com/watch?v=hOiKSiek0xw\\n\\ntitle independência brasil enem views count publish date author parabólica description unknown link video httpswwwyoutubecomwatchhoiksiekxw salve salve gente tudo bem vindos vídeo parabólica vídeo aula história brasil tema extremamente importante gente vai falar sobre processo independência brasil certamente alguma questão alguma prova sobre tema principalmente enem porque gente entender vai cair independência brasil estudado processo independência vai realizado porque primeiro chegou margens verdade muitas coisas aconteceram mitos verdades gente vai entender imaginar processo independência brasil simples pegar última aula gente falou período junino gente falou gente período junino revolução porto elite portuguesa exigir retorno família real portugal consequentemente recolonização brasil revolução revolução liberal significa pessoal portugal queria família real voltasse voltar necessariamente governar reino português gostariam portugal tornasse monarquia parlamentar sabe bem gente falou sobre outras aulas revolução inglesa inglaterra tornou monarquia parlamentar famoso reina governa reino rei acaba tornando chefe estado chefe governo então qualquer forma exigiram família real retornasse recolonizar brasil família real ficasse aqui fortalecia bases brasileiras então vai acontecendo processo dom joão vai voltar grande parte família real portugal poder acalmar ânimos família real dom pedro vai ficar brasil interesse tentar segurar máximo brasil independência brasil porque nessa revolução porto falaram jogo retorna perde trono português monarquia parlamentar perde tempo retorna certamente elite brasileira vai querer independência porque elite brasileira vai aceitar recolonização brasil gente porque nesse período junino gente fala última aula elite brasileira fortaleceu então gente vai ter embate elite portuguesa elite brasileira dom joão retorna portugal ainda aqui brasil grande parte portugueses nesse processo dom joão retorne deixa brasil dom pedro aqui gente conhece período vai volta família real grande parte família real portugal independência brasil coroação dom pedro regência dom pedro regência significa regente necessariamente rei governando determinado local determinado espaço território nação quiser chamar então brasil vai passar processo regência pedro governando brasil provisoriamente período rápido muita coisa importante vão saber primeiro conta elite portuguesa ainda ficou aqui brasil excelente brasileiro vem crescendo vamos formação dois partidos importantes entender processo todo primeiro chamado partido português elite portuguesa aqui brasil defende recolonização brasil dom pedro volte portugal brasileiro fortaleceu vai formar partido brasileiro então embate partido português recolonizadora brasil parte brasileiro libertadores brasil alguma maneira pouco complexo entender porque partido brasileiro assim todos partidos modernos pensa hoje pode ter várias facções vários pensamentos dentro une todas facções liberdade brasil relação portugal dentro partido brasileiro vai ter grupo exemplo pessoas voltados conservadorismo querem brasil liberte defende tendo primeiro deve rei vai ter parcela pessoas ligadas movimento liberal nec parcela maior iluminista processo muitos casos querem república brasil então partido português quer recolonizar brasil parte brasileiro quer libertar partido brasileiro várias idéias vai ficar claro gente gente estudar governo dom pedro nesse processo partido brasileiro fortalecendo fortalecendo fortalecendo portugal exigem retorno dom pedro primeiro porque herdeiro trono brasileiro sabem presença dom pedro aqui brasil fortalece processo independência brasil porque apoiado inicialmente partido brasileiro fazer independência apoiado termo correto dom pedro primeiro influenciado influenciado'\n",
      " 'Title: INDEPENDÊNCIA DO BRASIL PARA O ENEM\\nViews count: 301183\\nPublish date: 2017-06-29 00:00:00\\nAuthor: Parabólica\\nDescription: Unknown\\nLink video: https://www.youtube.com/watch?v=hOiKSiek0xw\\n\\ntitle independência brasil enem views count publish date author parabólica description unknown link video httpswwwyoutubecomwatchhoiksiekxw conservadorismo querem brasil liberte defende tendo primeiro deve rei vai ter parcela pessoas ligadas movimento liberal nec parcela maior iluminista processo muitos casos querem república brasil então partido português quer recolonizar brasil parte brasileiro quer libertar partido brasileiro várias idéias vai ficar claro gente gente estudar governo dom pedro nesse processo partido brasileiro fortalecendo fortalecendo fortalecendo portugal exigem retorno dom pedro primeiro porque herdeiro trono brasileiro sabem presença dom pedro aqui brasil fortalece processo independência brasil porque apoiado inicialmente partido brasileiro fazer independência apoiado termo correto dom pedro primeiro influenciado influenciado idéias liberdade gente cartas dons vão portugal mandando dom pedro falando deveria voltar dom joão pensou diferente olha recebendo pressão precisa voltar dom pedro primeiro responde cartas dom joão nesse processo regência dom pedro falando vai metade dificuldade pensa voltar porque queria ter vida dom joão portugal porque virou monarca representativo rei assim governante falei processo revolução porto vão viajava reino português tentar mostrar realeza portuguesa governar queria dom pedro começa pensar volto vou tornar menos pai assim vai portugal fico aqui possibilidade grande governante vai receber influência grande partido brasileiro vai começar falar olha gente vai fazer processo independência dom pedro dom pedro primeiro tempo então melhor comigo então entendo gente vai caminhando parte importante dessa aula aula independência brasil pode rápida extremamente importante janeiro independência setembro janeiro apelo elite portuguesa dom pedro retorne recolonizar brasil dom pedro pressão emite sofrendo elite famoso dia fico fala bem todos felicidade geral nação diga povo fico então gente começando tornar neste processo começando pensar ter identidade país independente verdade independentes fato acompanharam última aula partes importantes peço assistam assistiram brasil período junino ganharam status make independência portugal porque gente meio libertando economicamente portugal conta tratados porque brasil colônia status colônia brasil status reino unido portugal reino unido faltava agora formalizar independência definitivo porque colônias portugueses queriam voltarmos falta processo durante processo todo elite brasileira formou torno partido brasileiro começou ameaçar pedro gente vai fazer pendência junto dom pedro começa tentar andar regiões aqui brasil vai santos minas gerais começa andar brasil saber consultar elites locais saber apoio dessas elites poder fazer independência brasil lógico portugal sabendo disso começa pensar vai enviar tropas brasil evitar independência brasil dom pedro começa ganhar cara maior independência coisa toda recebe carta verdade recebeu vindo santos chegando ali guerra hoje paulo região paulo chegando ali recebe carta verdade esposa áustria dona leopoldina recebeu rio janeiro janeiro capital brasil através mensageiro envia carta pra recebeu portugal falando portugal vindo trazendo tropas evitar processo independência dom pedro elite brasileira recebe carta decide veículos gente tempo então independência vai agora consumado famoso grito ipiranga proclamação']\n"
     ]
    }
   ],
   "source": [
    "print(df['metadata_and_content_clean'].values[95:110][:1000])"
   ]
  },
  {
   "cell_type": "code",
   "execution_count": 17,
   "metadata": {},
   "outputs": [],
   "source": [
    "query = \"Dom João VI Ele veio para cá negociando inclusive com a Inglaterra né para vocês saberem a Marinha britânica que fez a escolta da família real até o Brasil chegaram ao Brasil você vai encontrar em vários livros falando que que você teve problema ali de de desinteria problema de piolho né o pessoal teve de arreia mesmo m né piolho mas na verdade isso tudo aconteceu porque a viagem não era tão rápida e é a primeira vez que uma nobreza portuguesa viaja a sua colônia tá a colônia e a sua colônia mais Próspera pelo menos então eles reclamaram de tudo reclamaram do desconforto da viagem porque a nobreza\"\n",
    "Q = vectorizer.transform([query])"
   ]
  },
  {
   "cell_type": "code",
   "execution_count": 18,
   "metadata": {},
   "outputs": [],
   "source": [
    "R = X.dot(Q.T)"
   ]
  },
  {
   "cell_type": "code",
   "execution_count": 19,
   "metadata": {},
   "outputs": [],
   "source": [
    "idxs_and_scores = sorted([[idx, x[0]]for idx, x in enumerate(R.toarray())], key=lambda x: x[1], reverse=True)"
   ]
  },
  {
   "cell_type": "code",
   "execution_count": 20,
   "metadata": {},
   "outputs": [
    {
     "data": {
      "text/plain": [
       "[[100, 0.3294292001990692],\n",
       " [104, 0.16347803851579404],\n",
       " [103, 0.13518648403097042],\n",
       " [101, 0.11540208789417405],\n",
       " [108, 0.11111992863986017],\n",
       " [102, 0.1069400768127039],\n",
       " [109, 0.09485224500541319],\n",
       " [105, 0.09129890781350725],\n",
       " [126, 0.08657321053193386],\n",
       " [374, 0.08312710762109014]]"
      ]
     },
     "execution_count": 20,
     "metadata": {},
     "output_type": "execute_result"
    }
   ],
   "source": [
    "idxs_and_scores[:10]"
   ]
  },
  {
   "cell_type": "code",
   "execution_count": 23,
   "metadata": {},
   "outputs": [],
   "source": [
    "# Get score with np.argsort\n",
    "scores = np.array(R.toarray()).flatten()\n",
    "idxs = np.argsort(scores)[::-1]\n",
    "idxs_and_scores = np.array([[idx, scores[idx]] for idx in idxs])"
   ]
  },
  {
   "cell_type": "code",
   "execution_count": 24,
   "metadata": {},
   "outputs": [
    {
     "data": {
      "text/plain": [
       "array([100, 104, 103, 101, 108, 102, 109, 105, 126, 374])"
      ]
     },
     "execution_count": 24,
     "metadata": {},
     "output_type": "execute_result"
    }
   ],
   "source": [
    "idxs_and_scores[:10, 0].astype(int)"
   ]
  },
  {
   "cell_type": "code",
   "execution_count": 25,
   "metadata": {},
   "outputs": [],
   "source": [
    "idxs = np.array(idxs_and_scores[:10])[:, 0].astype(int)"
   ]
  },
  {
   "cell_type": "code",
   "execution_count": 26,
   "metadata": {},
   "outputs": [
    {
     "data": {
      "text/html": [
       "<div>\n",
       "<style scoped>\n",
       "    .dataframe tbody tr th:only-of-type {\n",
       "        vertical-align: middle;\n",
       "    }\n",
       "\n",
       "    .dataframe tbody tr th {\n",
       "        vertical-align: top;\n",
       "    }\n",
       "\n",
       "    .dataframe thead th {\n",
       "        text-align: right;\n",
       "    }\n",
       "</style>\n",
       "<table border=\"1\" class=\"dataframe\">\n",
       "  <thead>\n",
       "    <tr style=\"text-align: right;\">\n",
       "      <th></th>\n",
       "      <th>titles</th>\n",
       "      <th>content</th>\n",
       "      <th>metadado</th>\n",
       "      <th>metadata_and_content_clean</th>\n",
       "    </tr>\n",
       "  </thead>\n",
       "  <tbody>\n",
       "    <tr>\n",
       "      <th>100</th>\n",
       "      <td>PERÍODO JOANINO PARA O ENEM</td>\n",
       "      <td>title período joanino enem views count publish...</td>\n",
       "      <td>Title: PERÍODO JOANINO PARA O ENEM\\nViews coun...</td>\n",
       "      <td>Title: PERÍODO JOANINO PARA O ENEM\\nViews coun...</td>\n",
       "    </tr>\n",
       "    <tr>\n",
       "      <th>104</th>\n",
       "      <td>PERÍODO JOANINO PARA O ENEM</td>\n",
       "      <td>title período joanino enem views count publish...</td>\n",
       "      <td>Title: PERÍODO JOANINO PARA O ENEM\\nViews coun...</td>\n",
       "      <td>Title: PERÍODO JOANINO PARA O ENEM\\nViews coun...</td>\n",
       "    </tr>\n",
       "    <tr>\n",
       "      <th>103</th>\n",
       "      <td>PERÍODO JOANINO PARA O ENEM</td>\n",
       "      <td>title período joanino enem views count publish...</td>\n",
       "      <td>Title: PERÍODO JOANINO PARA O ENEM\\nViews coun...</td>\n",
       "      <td>Title: PERÍODO JOANINO PARA O ENEM\\nViews coun...</td>\n",
       "    </tr>\n",
       "    <tr>\n",
       "      <th>101</th>\n",
       "      <td>PERÍODO JOANINO PARA O ENEM</td>\n",
       "      <td>title período joanino enem views count publish...</td>\n",
       "      <td>Title: PERÍODO JOANINO PARA O ENEM\\nViews coun...</td>\n",
       "      <td>Title: PERÍODO JOANINO PARA O ENEM\\nViews coun...</td>\n",
       "    </tr>\n",
       "    <tr>\n",
       "      <th>108</th>\n",
       "      <td>INDEPENDÊNCIA DO BRASIL PARA O ENEM</td>\n",
       "      <td>title independência brasil enem views count pu...</td>\n",
       "      <td>Title: INDEPENDÊNCIA DO BRASIL PARA O ENEM\\nVi...</td>\n",
       "      <td>Title: INDEPENDÊNCIA DO BRASIL PARA O ENEM\\nVi...</td>\n",
       "    </tr>\n",
       "    <tr>\n",
       "      <th>102</th>\n",
       "      <td>PERÍODO JOANINO PARA O ENEM</td>\n",
       "      <td>title período joanino enem views count publish...</td>\n",
       "      <td>Title: PERÍODO JOANINO PARA O ENEM\\nViews coun...</td>\n",
       "      <td>Title: PERÍODO JOANINO PARA O ENEM\\nViews coun...</td>\n",
       "    </tr>\n",
       "    <tr>\n",
       "      <th>109</th>\n",
       "      <td>INDEPENDÊNCIA DO BRASIL PARA O ENEM</td>\n",
       "      <td>title independência brasil enem views count pu...</td>\n",
       "      <td>Title: INDEPENDÊNCIA DO BRASIL PARA O ENEM\\nVi...</td>\n",
       "      <td>Title: INDEPENDÊNCIA DO BRASIL PARA O ENEM\\nVi...</td>\n",
       "    </tr>\n",
       "    <tr>\n",
       "      <th>105</th>\n",
       "      <td>PERÍODO JOANINO PARA O ENEM</td>\n",
       "      <td>title período joanino enem views count publish...</td>\n",
       "      <td>Title: PERÍODO JOANINO PARA O ENEM\\nViews coun...</td>\n",
       "      <td>Title: PERÍODO JOANINO PARA O ENEM\\nViews coun...</td>\n",
       "    </tr>\n",
       "    <tr>\n",
       "      <th>126</th>\n",
       "      <td>D.PEDRO-I PARA O ENEM</td>\n",
       "      <td>title pedro enem views count publish date auth...</td>\n",
       "      <td>Title: D.PEDRO-I PARA O ENEM\\nViews count: 381...</td>\n",
       "      <td>Title: D.PEDRO-I PARA O ENEM\\nViews count: 381...</td>\n",
       "    </tr>\n",
       "    <tr>\n",
       "      <th>374</th>\n",
       "      <td>APRENDENDO A HISTÓRIA DO SÉCULO XIX.</td>\n",
       "      <td>title aprendendo história século xix views cou...</td>\n",
       "      <td>Title: APRENDENDO A HISTÓRIA DO SÉCULO XIX.\\nV...</td>\n",
       "      <td>Title: APRENDENDO A HISTÓRIA DO SÉCULO XIX.\\nV...</td>\n",
       "    </tr>\n",
       "  </tbody>\n",
       "</table>\n",
       "</div>"
      ],
      "text/plain": [
       "                                   titles  \\\n",
       "100           PERÍODO JOANINO PARA O ENEM   \n",
       "104           PERÍODO JOANINO PARA O ENEM   \n",
       "103           PERÍODO JOANINO PARA O ENEM   \n",
       "101           PERÍODO JOANINO PARA O ENEM   \n",
       "108   INDEPENDÊNCIA DO BRASIL PARA O ENEM   \n",
       "102           PERÍODO JOANINO PARA O ENEM   \n",
       "109   INDEPENDÊNCIA DO BRASIL PARA O ENEM   \n",
       "105           PERÍODO JOANINO PARA O ENEM   \n",
       "126                 D.PEDRO-I PARA O ENEM   \n",
       "374  APRENDENDO A HISTÓRIA DO SÉCULO XIX.   \n",
       "\n",
       "                                               content  \\\n",
       "100  title período joanino enem views count publish...   \n",
       "104  title período joanino enem views count publish...   \n",
       "103  title período joanino enem views count publish...   \n",
       "101  title período joanino enem views count publish...   \n",
       "108  title independência brasil enem views count pu...   \n",
       "102  title período joanino enem views count publish...   \n",
       "109  title independência brasil enem views count pu...   \n",
       "105  title período joanino enem views count publish...   \n",
       "126  title pedro enem views count publish date auth...   \n",
       "374  title aprendendo história século xix views cou...   \n",
       "\n",
       "                                              metadado  \\\n",
       "100  Title: PERÍODO JOANINO PARA O ENEM\\nViews coun...   \n",
       "104  Title: PERÍODO JOANINO PARA O ENEM\\nViews coun...   \n",
       "103  Title: PERÍODO JOANINO PARA O ENEM\\nViews coun...   \n",
       "101  Title: PERÍODO JOANINO PARA O ENEM\\nViews coun...   \n",
       "108  Title: INDEPENDÊNCIA DO BRASIL PARA O ENEM\\nVi...   \n",
       "102  Title: PERÍODO JOANINO PARA O ENEM\\nViews coun...   \n",
       "109  Title: INDEPENDÊNCIA DO BRASIL PARA O ENEM\\nVi...   \n",
       "105  Title: PERÍODO JOANINO PARA O ENEM\\nViews coun...   \n",
       "126  Title: D.PEDRO-I PARA O ENEM\\nViews count: 381...   \n",
       "374  Title: APRENDENDO A HISTÓRIA DO SÉCULO XIX.\\nV...   \n",
       "\n",
       "                            metadata_and_content_clean  \n",
       "100  Title: PERÍODO JOANINO PARA O ENEM\\nViews coun...  \n",
       "104  Title: PERÍODO JOANINO PARA O ENEM\\nViews coun...  \n",
       "103  Title: PERÍODO JOANINO PARA O ENEM\\nViews coun...  \n",
       "101  Title: PERÍODO JOANINO PARA O ENEM\\nViews coun...  \n",
       "108  Title: INDEPENDÊNCIA DO BRASIL PARA O ENEM\\nVi...  \n",
       "102  Title: PERÍODO JOANINO PARA O ENEM\\nViews coun...  \n",
       "109  Title: INDEPENDÊNCIA DO BRASIL PARA O ENEM\\nVi...  \n",
       "105  Title: PERÍODO JOANINO PARA O ENEM\\nViews coun...  \n",
       "126  Title: D.PEDRO-I PARA O ENEM\\nViews count: 381...  \n",
       "374  Title: APRENDENDO A HISTÓRIA DO SÉCULO XIX.\\nV...  "
      ]
     },
     "execution_count": 26,
     "metadata": {},
     "output_type": "execute_result"
    }
   ],
   "source": [
    "df.iloc[idxs]"
   ]
  },
  {
   "cell_type": "code",
   "execution_count": 29,
   "metadata": {},
   "outputs": [
    {
     "name": "stderr",
     "output_type": "stream",
     "text": [
      "[nltk_data] Downloading package stopwords to\n",
      "[nltk_data]     C:\\Users\\gabri\\AppData\\Roaming\\nltk_data...\n",
      "[nltk_data]   Package stopwords is already up-to-date!\n"
     ]
    }
   ],
   "source": [
    "import pickle\n",
    "from pydantic import BaseModel\n",
    "\n",
    "nltk.download('stopwords')\n",
    "stop_words = set(stopwords.words('portuguese'))\n",
    "\n",
    "class Output(BaseModel):\n",
    "    title: str\n",
    "    content: str\n",
    "    relevance: float\n",
    "\n",
    "class Retriever:\n",
    "    def __init__(self, path_csv, path_model):\n",
    "        self.df = pd.read_csv(path_csv)\n",
    "        self.df['metadado'] = self.df['content'].apply(lambda x: x.split('\\n\\n')[0])\n",
    "        self.df['content'] = self.df['content'].apply(self.preprocess_text)\n",
    "        self.df['metadata_and_content_clean'] = self.df['metadado'] + '\\n\\n' + self.df['content']\n",
    "        try:\n",
    "            with open(path_model, 'rb') as f_in:\n",
    "                self.vectorizer = pickle.load(f_in)\n",
    "            self.X = self.vectorizer.transform(self.df['metadata_and_content_clean'])    \n",
    "            \n",
    "        except:\n",
    "            print('Model not found. Creating a new one...')\n",
    "            self.vectorizer = TfidfVectorizer()\n",
    "            self.X = self.vectorizer.fit_transform(self.df['metadata_and_content_clean'])\n",
    "            print('Model created.')\n",
    "            print('Saving model...')\n",
    "            self.save_model(filename=path_model.split('/')[-1])\n",
    "            \n",
    "        \n",
    "    def invoke(self, query, k=3):\n",
    "        Q = vectorizer.transform([query])\n",
    "        R = self.X.dot(Q.T)\n",
    "        \n",
    "        # Get score with np.argsort\n",
    "        scores = np.array(R.toarray()).flatten()\n",
    "        idxs = np.argsort(scores)[::-1]\n",
    "        idxs_and_scores = np.array([[idx, scores[idx]] for idx in idxs])\n",
    "        \n",
    "        retrieved = np.array(idxs_and_scores[:k])\n",
    "        idxs = np.array(retrieved)[:, 0].astype(int)\n",
    "        output_title = self.df.iloc[idxs][['titles']].values\n",
    "        output_content = self.df.iloc[idxs][['metadata_and_content_clean']].values\n",
    "        output_relevance = retrieved[:, 1].reshape(-1, 1)\n",
    "        output = np.concatenate([output_title, output_content, output_relevance], axis=1)\n",
    "        return output\n",
    "    \n",
    "    def query(self, query, k=3):\n",
    "        output = self.invoke(query, k)\n",
    "        output = [Output(title=x[0], content=x[1], relevance=x[2]) for x in output]\n",
    "        return output\n",
    "    \n",
    "    def preprocess_text(self, text):\n",
    "        text = text.lower()\n",
    "        text = re.sub(r'\\d+', '', text)\n",
    "        text = re.sub(r'\\b\\w{1,2}\\b', '', text)  \n",
    "        text = re.sub(r'[^\\w\\s]', '', text) \n",
    "        text = ' '.join(word for word in text.split() if word not in stop_words)\n",
    "        return text\n",
    "    \n",
    "    def save_model(self, filename='tfidf_model.pkl'):\n",
    "        # Salvar o modelo TF-IDF em um arquivo .pkl\n",
    "        with open(filename, 'wb') as f_out:\n",
    "            pickle.dump(self.vectorizer, f_out)"
   ]
  },
  {
   "cell_type": "code",
   "execution_count": 30,
   "metadata": {},
   "outputs": [
    {
     "name": "stdout",
     "output_type": "stream",
     "text": [
      "Model not found. Creating a new one...\n",
      "Model created.\n",
      "Saving model...\n"
     ]
    }
   ],
   "source": [
    "retriever = Retriever(path_csv=\"../data/data_playlists_enem.csv\", path_model='../models/tfidf_model_enem.pkl')"
   ]
  },
  {
   "cell_type": "code",
   "execution_count": 31,
   "metadata": {},
   "outputs": [
    {
     "data": {
      "text/plain": [
       "[Output(title='PERÍODO JOANINO PARA O ENEM', content='Title: PERÍODO JOANINO PARA O ENEM\\nViews count: 365927\\nPublish date: 2017-06-15 00:00:00\\nAuthor: Parabólica\\nDescription: Unknown\\nLink video: https://www.youtube.com/watch?v=F8c422R-C1w\\n\\ntitle período joanino enem views count publish date author parabólica description unknown link video httpswwwyoutubecomwatchfcr salve salve gente tudo bem bemvindos vídeo parabólica hoje dia videoaula história brasil momento decisivo vamos falar hoje período joanino finalzinho processo colonial brasileiro quer dizer próximas aulas gente vai entrando período império brasil independente vou enrolar gente começa falando sobre período chamado período joanino período aqui brasil vai período joanino simples família real portuguesa veio residir brasil durante período vieram quê vieram porque fugindo napoleão bonaparte imperador francês bom gente fez aula aqui sobre napoleão guerras napoleônicas então assistiu sabe bem acontecendo napoleão decretou bloqueio continental inglat terra nenhuma nação poderia continuar comercializando inglaterra desobedecesse invadido tropas francesas portugal condições condições romper inglaterra porque portugal dependia economicamente inglaterra inclusive devia pra inglaterra tratado méa panos vinhos coisas gente falou tudo aqui aulas fala assim aconteceu então príncipe regente portugal dom joão chegou conclusão junto ministros hora abandonar barco portugal enquanto outras nações batalhem tentassem derrotar napoleão família real portuguesa veio brasil fugindo napoleão veio veio gente caramba família real muitos cidadãos portugueses ficaram medo disso tanto cidadãos elite quanto cidadãos comuns vieram fugindo napoleão portugal ficou desabitado ficou desabitado veio muita gente portugal brasil dom joão veio negociando inclusive inglaterra saberem marinha britânica fez escolta família real brasil chegaram brasil vai encontrar vários livros falando problema ali desinteria problema piolho pessoal arreia piolho verdade tudo aconteceu porque viagem tão rápida primeira vez nobreza portuguesa viaja colônia colônia colônia próspera menos então reclamaram tudo reclamaram desconforto viagem porque nobreza acostumada maior parte população pro rio janeiro capital brasil outra pedaço pequeno principalmente família real dom joão chama período joanino porque dom joão família real inicialmente desceu salvador motivos descer salvador conhecer primeira capital colônia lógico fazer agrado população aqui brasil mostrar quanto família real portuguesa preocupa habitantes colônia questão política focos desse período localizados principalmente rio janeiro precisam saber bem pontos importantes gente vai falar aqui coisa extremamente importante daí começa surgir verdade primeira grande rivalidade brasileiros portugueses todo mundo fica falando guerra meme coisa toda surgiu tudo discussão brasileiro apiada português portugues cont apiada brasileiro porque prioridade principalmente aqui rio janeiro sempre pros portugueses então brasileiros sair residências portugueses ocuparem portugueses ocupavam melhores cargos brasil nesse período então surgiu rivalidade importante frente vai resultar independência brasil porque brasileiro vai querer colonizado portugueses claro aqui gente falando daquela fase final daquele stopim povo brasileiro saco cheio disso importante falar desse período agora então gente falando rio janeiro dessa rivalidade surgindo então família real chega brasil passa salvador desce pro rio janeiro vai acontecer importante saber sobre importante todo mundo entenda brasil começa ganhar cara então começa ganhar gente vai falar ares europeizadas dom joão aqui brasil permitiu criação universidades bibliotecas teatros coisas importantes permitiu tudo gente sabia quanto tempo família real ficar brasil então vão tentar europeizar brasil justamente receber portugueses reparem brasil brasil nada antes disso concepção opa moto brasil', relevance=0.3294292001990692),\n",
       " Output(title='PERÍODO JOANINO PARA O ENEM', content='Title: PERÍODO JOANINO PARA O ENEM\\nViews count: 365927\\nPublish date: 2017-06-15 00:00:00\\nAuthor: Parabólica\\nDescription: Unknown\\nLink video: https://www.youtube.com/watch?v=F8c422R-C1w\\n\\ntitle período joanino enem views count publish date author parabólica description unknown link video httpswwwyoutubecomwatchfcr tomado dom joão ficou portugal fala assim ficou portugal merecia portugal segundo concepção tratado viena dom joão merece portugal porque batalhou contra napoleão fugiu pro brasil vai entrar negócio extremamente importante outra coisa extremamente decisiva entenderem partir disso sabendo pode perder dom joão perdendo portugal porque fugiu pra colônia agora então fica colônia perdeu metrópole dom joão declara eleva brasil categoria reino unido portugal garves significa brasil tornou reino unido deixa colônia portugal assim dom joão usa justificativa fugi pra colônia reino extremamente importante quê porque brasil formalmente deixou colônia agora quê reino unido portugal garves entendendo ponto importante entender dom pedro grito ipiranga ato brasil tava tendo status independência percebem importante gente gente pode falar desse processo amou atitude brasil agora reino unido portugal grande parte elite brasileira fala assim colônias formalmente odiou elite portuguesa inclusive elite retornando portugal porque napoleão sido derrotado elite portuguesa odiou porque agora têm colônia próspera maior colônia reino português brasil aumenta rivalidade brasil portugal olha ponto menos cereja bolo hein cereja bolo deixa coçar nariz aqui coçando horrores coçando tomar água vinha falando cereja bolo elite portuguesa estabelecida portugal dom joão ainda aqui brasil família real ainda aqui elite portuguesa aceitando independência brasil adquiriu durante período joanino fazem revolução algumas revoluções verdade gente chama revoluções revoluções porto revolução porto quiserem chamar elite portuguesa exigindo retorno família real recolonização brasil quiser saber portugal passando processo agora transformar monarquia monarquia parlamentarista onde rei reina vai ter todas esferas governo mãos falam gente quer recolonizar brasil recolonizar gente precisa rei família voltem portugal porque senão ficam protegendo ficam dando estatus maior pro brasil então exigem retorno família real condição família real retornar portugal dom joão perde trono português existe pressão elite brasileira dom joão retorne porque dom joão retornar tentarem recolonizar brasil elite brasileira agora avançada outros tempos vai deixar acontecer vai fazer independência brasil nesse momento dom joão desesperado sabe faz começa ouvir conselhos ministros fala faço faço faço volto portugal tentam recolonizar brasil elite brasileira faz independência fico brasil tiram reino português tiram trono português grande saída sacada mestre deixar dom pedro filho aqui brasil família real retorna portugal dom pedro fica brasil objetivo disso dom pedro vai ficar tentativa tapear elite portuguesa ficou aqui tapiar elite brasileira ideia seguinte dom pedro fica brasil elite brasileira tentar fazer independência tenta segurar der faça independência porque fizer independência tudo bem menos reino portugal reino próximo mesma família agora reino brasileiro portugal dom joão rei brasil dom pedro rei nações agora necessariamente ligadas formalmente mesma família poder então dom joão retorna portugal deixa dom pedro aqui brasil vai acontecer processo independência gente vai debater próximo vídeo próximo vídeo próxima vídeoaula aqui parabólica gente entenderam tudo gente falou foco entender processo brasil ganhando status colônia reino unido portugal daqui pouco nação independente portugal nunca esquecer cada vez dependentes inglaterra gente prazer deixa comentários', relevance=0.16347803851579404),\n",
       " Output(title='PERÍODO JOANINO PARA O ENEM', content='Title: PERÍODO JOANINO PARA O ENEM\\nViews count: 365927\\nPublish date: 2017-06-15 00:00:00\\nAuthor: Parabólica\\nDescription: Unknown\\nLink video: https://www.youtube.com/watch?v=F8c422R-C1w\\n\\ntitle período joanino enem views count publish date author parabólica description unknown link video httpswwwyoutubecomwatchfcr públicos geral resolveram criticar governo dom joão surgiu revolução pernambucana falando tentaram verdade fazer revolta separatista verdade fizeram revolta separatista inicialmente conseguiram separar província pernambuco brasil transformar ideia criar governo provisório transformar pernambuco república muita influência independência estados unidos relação transformou estados unidos república movimento vai ter influência grande independência estados unidos influência grande liberal influência grande iluminista justamente criticavam processo aqui família real veio aqui usou luxo rio janeiro acabava pegando recursos todo brasil poder elevar vida portugueses vivendo ali rio janeiro logicamente revolução pernambucana reprimida demais altura governo provisório reprimidos violentamente governo dom joão entendendo processo encaminhando brasil processo independência revolução pernambucana movimento republicano brasil vai tornar monarquia república bom tudo bem bem gente precisa entender algumas coisas ponto importante napoleão europa vai derrotado definitivamente ano vai derrotado definitivamente dom joão dom joão veio pro brasil família real portuguesa veio brasil nações derrotaram napoleão inglaterra áustria prússia rússia derrotaram napoleão prenderam napoleão napoleão vai morrer organizando agora ver vão fazer europa presença agora napoleão porque derrotaram dit cujo dom joão vai fazer aqui brasil importante porque divergência alguns aspectos importante saibam gente vai ter pedaço importante história período joanino chamado missão francesa missão francesa vinda artistas clássicos franceses brasil vieram fazer alguns artistas inclusive oficiais corte napoleônica napoleão agora derrotado vieram fazer brasil divergência falo muita gente fala contratados dom joão gente fala contratados dom joão gente fala vieram livre espontânea vontade rugendas debr artistas francê maioria vieram brasil vieram fazer vieram tentativa influenciar brasil criar movimento artístico gente vai conhecer academia brasileira belas artes toda nação naquele período movimento artístico importante sério geralmente clássico brasil colônia gente falou agora pouco brasil começando ter status independência falou agora então brasil vai tentar ter movimento artístico gente pega influência franceses porque segundo concepção época civilização europa civilização aqui então vem trazer influência vem tentar criar muita gente vai falar tentativa meio frustrada porque negócio pra frente agora voltando pra europa aula napoleão gente falou europa queda napoleão países derrotaram napoleão criaram fizeram tratado viena tentar redividir mapa europeu agora napoleão conquistou grande parte começam devolver reinos antigos reis napoleão tomado dom joão ficou portugal fala assim ficou portugal merecia portugal segundo concepção tratado viena dom joão merece portugal porque batalhou contra napoleão fugiu pro brasil vai entrar negócio extremamente importante outra coisa extremamente decisiva entenderem partir disso sabendo pode perder dom joão perdendo portugal porque fugiu pra colônia agora então fica colônia perdeu metrópole dom joão declara eleva brasil categoria reino unido portugal garves significa brasil tornou reino unido deixa colônia portugal assim dom joão usa justificativa fugi pra colônia reino extremamente importante quê porque brasil formalmente deixou colônia agora quê reino unido portugal garves', relevance=0.13518648403097042),\n",
       " Output(title='PERÍODO JOANINO PARA O ENEM', content='Title: PERÍODO JOANINO PARA O ENEM\\nViews count: 365927\\nPublish date: 2017-06-15 00:00:00\\nAuthor: Parabólica\\nDescription: Unknown\\nLink video: https://www.youtube.com/watch?v=F8c422R-C1w\\n\\ntitle período joanino enem views count publish date author parabólica description unknown link video httpswwwyoutubecomwatchfcr aqui gente falando daquela fase final daquele stopim povo brasileiro saco cheio disso importante falar desse período agora então gente falando rio janeiro dessa rivalidade surgindo então família real chega brasil passa salvador desce pro rio janeiro vai acontecer importante saber sobre importante todo mundo entenda brasil começa ganhar cara então começa ganhar gente vai falar ares europeizadas dom joão aqui brasil permitiu criação universidades bibliotecas teatros coisas importantes permitiu tudo gente sabia quanto tempo família real ficar brasil então vão tentar europeizar brasil justamente receber portugueses reparem brasil brasil nada antes disso concepção opa moto brasil nada antes disso concepção portuguesa porque brasil colônia exploração brasil agora conç começa ganhar cara europeizada ponto vista português dizem civilizando brasil agora vou dar dica verdade dois detalhes detalhes importantes precisam saber aula muita gente esquece disso falo assim quiserem colocar caderno anotando extremamente importante importante extremamente importante vou falar agora precisam anotar vai fazer entenderem processo independência brasil logo ano chegada família real declarada abertura portos nações amigas significa brasil abre portos nações quiserem comercializar diretamente conosco dom joão faz simples motivo acabando monopólio pacto colonial monopólio tudo sai brasil deve primeiro pra metrópole tudo sai colônia deve paraa metrópole fazendo pode enviar lucros bens coisas extraídas aqui brasil portugal simples motivo família real aqui família real aqui portugal cercado napoleão então pode fazer então abre portos nações amigas quebra monopólio brasil portugal porque família real morando brasil então entendam importante porque brasil avançando processo independência outra questão importante além abertura portos nações amigas gente feito acordo grãbretanha chamado tratado comércio amizade alguns locais vão achar tratado cooperação amizade significa produtos britânicos entrarem brasil pagam menos impostos então vou dar exemplo produto britânico quiser entrar brasil cerca acrescentado impostos produto entrar verdade produtos podem variar gente coloca ali importante saber número saber produto britânico barato entrar brasil produtos outr outras nações impostos chegam significa brasil dando prioridade pros produtos britânicos justamente porque relação portugal verdade sempre passou relação pro brasil relação econômica inglaterra relação agora dependência econômica inglaterra comprar produto britânico inglês brasil ficou agora fácil conta disso conta dessas facilidades comércio então pessoas compravam produtos desnecessários nesse período aqui brasil patins gelo quê brasil ski esquiar neve vou ali paraa baril vai escambal máximo vai fazer vai fazer esquibunda barranco lado casa porque neve aqui brasil pessoas compravam conta facilidades então significa quê dando prioridade pra inglaterra então percebem porque tratado abertura portos nações amigas diz nações amigas amigas verdade inglaterra porque tratado favorece inglaterra comércio então ponto importante entender período joanino devem saber porque grande parte historiadores falam desse processo estudam processo levam extremamente influenciados enem influenciados enem geram extrema influência prova enem simplesmente dizem seguinte historiadores viveram ainda nativa independência brasil vai todo mundo sabe', relevance=0.11540208789417405),\n",
       " Output(title='INDEPENDÊNCIA DO BRASIL PARA O ENEM', content='Title: INDEPENDÊNCIA DO BRASIL PARA O ENEM\\nViews count: 301183\\nPublish date: 2017-06-29 00:00:00\\nAuthor: Parabólica\\nDescription: Unknown\\nLink video: https://www.youtube.com/watch?v=hOiKSiek0xw\\n\\ntitle independência brasil enem views count publish date author parabólica description unknown link video httpswwwyoutubecomwatchhoiksiekxw salve salve gente tudo bem vindos vídeo parabólica vídeo aula história brasil tema extremamente importante gente vai falar sobre processo independência brasil certamente alguma questão alguma prova sobre tema principalmente enem porque gente entender vai cair independência brasil estudado processo independência vai realizado porque primeiro chegou margens verdade muitas coisas aconteceram mitos verdades gente vai entender imaginar processo independência brasil simples pegar última aula gente falou período junino gente falou gente período junino revolução porto elite portuguesa exigir retorno família real portugal consequentemente recolonização brasil revolução revolução liberal significa pessoal portugal queria família real voltasse voltar necessariamente governar reino português gostariam portugal tornasse monarquia parlamentar sabe bem gente falou sobre outras aulas revolução inglesa inglaterra tornou monarquia parlamentar famoso reina governa reino rei acaba tornando chefe estado chefe governo então qualquer forma exigiram família real retornasse recolonizar brasil família real ficasse aqui fortalecia bases brasileiras então vai acontecendo processo dom joão vai voltar grande parte família real portugal poder acalmar ânimos família real dom pedro vai ficar brasil interesse tentar segurar máximo brasil independência brasil porque nessa revolução porto falaram jogo retorna perde trono português monarquia parlamentar perde tempo retorna certamente elite brasileira vai querer independência porque elite brasileira vai aceitar recolonização brasil gente porque nesse período junino gente fala última aula elite brasileira fortaleceu então gente vai ter embate elite portuguesa elite brasileira dom joão retorna portugal ainda aqui brasil grande parte portugueses nesse processo dom joão retorne deixa brasil dom pedro aqui gente conhece período vai volta família real grande parte família real portugal independência brasil coroação dom pedro regência dom pedro regência significa regente necessariamente rei governando determinado local determinado espaço território nação quiser chamar então brasil vai passar processo regência pedro governando brasil provisoriamente período rápido muita coisa importante vão saber primeiro conta elite portuguesa ainda ficou aqui brasil excelente brasileiro vem crescendo vamos formação dois partidos importantes entender processo todo primeiro chamado partido português elite portuguesa aqui brasil defende recolonização brasil dom pedro volte portugal brasileiro fortaleceu vai formar partido brasileiro então embate partido português recolonizadora brasil parte brasileiro libertadores brasil alguma maneira pouco complexo entender porque partido brasileiro assim todos partidos modernos pensa hoje pode ter várias facções vários pensamentos dentro une todas facções liberdade brasil relação portugal dentro partido brasileiro vai ter grupo exemplo pessoas voltados conservadorismo querem brasil liberte defende tendo primeiro deve rei vai ter parcela pessoas ligadas movimento liberal nec parcela maior iluminista processo muitos casos querem república brasil então partido português quer recolonizar brasil parte brasileiro quer libertar partido brasileiro várias idéias vai ficar claro gente gente estudar governo dom pedro nesse processo partido brasileiro fortalecendo fortalecendo fortalecendo portugal exigem retorno dom pedro primeiro porque herdeiro trono brasileiro sabem presença dom pedro aqui brasil fortalece processo independência brasil porque apoiado inicialmente partido brasileiro fazer independência apoiado termo correto dom pedro primeiro influenciado influenciado', relevance=0.11111992863986017)]"
      ]
     },
     "execution_count": 31,
     "metadata": {},
     "output_type": "execute_result"
    }
   ],
   "source": [
    "query = \"Dom João VI Ele veio para cá negociando inclusive com a Inglaterra né para vocês saberem a Marinha britânica que fez a escolta da família real até o Brasil chegaram ao Brasil você vai encontrar em vários livros falando que que você teve problema ali de de desinteria problema de piolho né o pessoal teve de arreia mesmo m né piolho mas na verdade isso tudo aconteceu porque a viagem não era tão rápida e é a primeira vez que uma nobreza portuguesa viaja a sua colônia tá a colônia e a sua colônia mais Próspera pelo menos então eles reclamaram de tudo reclamaram do desconforto da viagem porque a nobreza\"\n",
    "\n",
    "retriever.query(query, k=5)"
   ]
  },
  {
   "cell_type": "code",
   "execution_count": 32,
   "metadata": {},
   "outputs": [],
   "source": [
    "# retriever.save_model(filename='../models/tfidf_model.pkl')"
   ]
  },
  {
   "cell_type": "code",
   "execution_count": null,
   "metadata": {},
   "outputs": [],
   "source": []
  }
 ],
 "metadata": {
  "kernelspec": {
   "display_name": "env",
   "language": "python",
   "name": "python3"
  },
  "language_info": {
   "codemirror_mode": {
    "name": "ipython",
    "version": 3
   },
   "file_extension": ".py",
   "mimetype": "text/x-python",
   "name": "python",
   "nbconvert_exporter": "python",
   "pygments_lexer": "ipython3",
   "version": "3.9.13"
  }
 },
 "nbformat": 4,
 "nbformat_minor": 2
}
